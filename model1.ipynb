{
 "cells": [
  {
   "cell_type": "markdown",
   "metadata": {
    "id": "dyEq68iPv_dw"
   },
   "source": [
    "## YΣ19 Artificial Intelligence II\n",
    "# Homework 2\n",
    "\n",
    "### Iglezou Myrto - 111520170038"
   ]
  },
  {
   "cell_type": "markdown",
   "metadata": {
    "id": "noegXjJov_d1"
   },
   "source": [
    "# Model 1"
   ]
  },
  {
   "cell_type": "code",
   "execution_count": 389,
   "metadata": {
    "id": "R4FkLNHBv_d4"
   },
   "outputs": [],
   "source": [
    "import pandas as pd \n",
    "from pandas import DataFrame, read_csv"
   ]
  },
  {
   "cell_type": "code",
   "execution_count": 390,
   "metadata": {
    "colab": {
     "base_uri": "https://localhost:8080/",
     "height": 271
    },
    "id": "mFmTNtE4v_eI",
    "outputId": "f8a8037a-4d5a-4ec2-c065-6f2ce4016301"
   },
   "outputs": [
    {
     "data": {
      "text/html": [
       "<div>\n",
       "<style scoped>\n",
       "    .dataframe tbody tr th:only-of-type {\n",
       "        vertical-align: middle;\n",
       "    }\n",
       "\n",
       "    .dataframe tbody tr th {\n",
       "        vertical-align: top;\n",
       "    }\n",
       "\n",
       "    .dataframe thead th {\n",
       "        text-align: right;\n",
       "    }\n",
       "</style>\n",
       "<table border=\"1\" class=\"dataframe\">\n",
       "  <thead>\n",
       "    <tr style=\"text-align: right;\">\n",
       "      <th></th>\n",
       "      <th>Unnamed: 0</th>\n",
       "      <th>target</th>\n",
       "      <th>id</th>\n",
       "      <th>date</th>\n",
       "      <th>flag</th>\n",
       "      <th>user</th>\n",
       "      <th>text</th>\n",
       "    </tr>\n",
       "  </thead>\n",
       "  <tbody>\n",
       "    <tr>\n",
       "      <th>0</th>\n",
       "      <td>680949</td>\n",
       "      <td>0</td>\n",
       "      <td>2249621587</td>\n",
       "      <td>Fri Jun 19 22:41:08 PDT 2009</td>\n",
       "      <td>NO_QUERY</td>\n",
       "      <td>sukumarpant</td>\n",
       "      <td>#brokenpromises...</td>\n",
       "    </tr>\n",
       "    <tr>\n",
       "      <th>1</th>\n",
       "      <td>406741</td>\n",
       "      <td>0</td>\n",
       "      <td>2059003515</td>\n",
       "      <td>Sat Jun 06 16:03:21 PDT 2009</td>\n",
       "      <td>NO_QUERY</td>\n",
       "      <td>MTMSparrow</td>\n",
       "      <td>David Carradine  so sad. Thai's law not sure i...</td>\n",
       "    </tr>\n",
       "    <tr>\n",
       "      <th>2</th>\n",
       "      <td>1337108</td>\n",
       "      <td>4</td>\n",
       "      <td>2017466467</td>\n",
       "      <td>Wed Jun 03 08:26:14 PDT 2009</td>\n",
       "      <td>NO_QUERY</td>\n",
       "      <td>itsmemcee</td>\n",
       "      <td>A @ 415 B @ 425. Tell your bro i say congrats!</td>\n",
       "    </tr>\n",
       "    <tr>\n",
       "      <th>3</th>\n",
       "      <td>1560887</td>\n",
       "      <td>4</td>\n",
       "      <td>2186457254</td>\n",
       "      <td>Mon Jun 15 18:52:04 PDT 2009</td>\n",
       "      <td>NO_QUERY</td>\n",
       "      <td>jdfreivald</td>\n",
       "      <td>@littlefluffycat  Indeed.</td>\n",
       "    </tr>\n",
       "    <tr>\n",
       "      <th>4</th>\n",
       "      <td>1466295</td>\n",
       "      <td>4</td>\n",
       "      <td>2064458395</td>\n",
       "      <td>Sun Jun 07 06:19:20 PDT 2009</td>\n",
       "      <td>NO_QUERY</td>\n",
       "      <td>CrazyHan</td>\n",
       "      <td>Completed Race 4 Life in 58mins with girlies f...</td>\n",
       "    </tr>\n",
       "  </tbody>\n",
       "</table>\n",
       "</div>"
      ],
      "text/plain": [
       "   Unnamed: 0  target          id                          date      flag  \\\n",
       "0      680949       0  2249621587  Fri Jun 19 22:41:08 PDT 2009  NO_QUERY   \n",
       "1      406741       0  2059003515  Sat Jun 06 16:03:21 PDT 2009  NO_QUERY   \n",
       "2     1337108       4  2017466467  Wed Jun 03 08:26:14 PDT 2009  NO_QUERY   \n",
       "3     1560887       4  2186457254  Mon Jun 15 18:52:04 PDT 2009  NO_QUERY   \n",
       "4     1466295       4  2064458395  Sun Jun 07 06:19:20 PDT 2009  NO_QUERY   \n",
       "\n",
       "          user                                               text  \n",
       "0  sukumarpant                                #brokenpromises...   \n",
       "1   MTMSparrow  David Carradine  so sad. Thai's law not sure i...  \n",
       "2    itsmemcee    A @ 415 B @ 425. Tell your bro i say congrats!   \n",
       "3   jdfreivald                          @littlefluffycat  Indeed.  \n",
       "4     CrazyHan  Completed Race 4 Life in 58mins with girlies f...  "
      ]
     },
     "execution_count": 390,
     "metadata": {},
     "output_type": "execute_result"
    }
   ],
   "source": [
    "# import gdown\n",
    "# url = 'https://drive.google.com/file/d/1dTIWNpjlrnTQBIQtaGOh0jCRYZiAQO79/view?usp=sharing'\n",
    "# path = 'https://drive.google.com/uc?export=download&id='+url.split('/')[-2]\n",
    "# output = \"twitterData.csv\"\n",
    "# gdown.download(path, output, quiet=False)\n",
    "# twitterData = pd.read_csv(\"/content/twitterData.csv\")\n",
    "# df = pd.DataFrame(data=twitterData)\n",
    "# df.head(5)\n",
    "\n",
    "path = r\"C:\\Users\\myrto\\Documents\\GitHub\\AI2-project2\\SentimentTweets.csv\"\n",
    "file = pd.read_csv(path,index_col=False,nrows=50000)\n",
    "# file = pd.read_csv(path,index_col=False)\n",
    "df = pd.DataFrame(data=file)\n",
    "df.head(5)"
   ]
  },
  {
   "cell_type": "code",
   "execution_count": 391,
   "metadata": {
    "id": "OHPG20asv_eY"
   },
   "outputs": [],
   "source": [
    "df['target'].replace({4: 1}, inplace = True)\n",
    "X = df['text']\n",
    "y = df['target']"
   ]
  },
  {
   "cell_type": "markdown",
   "metadata": {
    "id": "Rlugq5Ilv_e_"
   },
   "source": [
    "## Data pre-processing"
   ]
  },
  {
   "cell_type": "markdown",
   "metadata": {
    "id": "352xjl03v_fC"
   },
   "source": [
    "### Removing the scpecial characters"
   ]
  },
  {
   "cell_type": "code",
   "execution_count": 392,
   "metadata": {
    "id": "z3MOkeo2v_fE"
   },
   "outputs": [],
   "source": [
    "import re\n",
    "\n",
    "def RemoveSpecialCharacters(x):\n",
    "    x = re.sub(r'[^\\w]+', \" \", x)\n",
    "    return x"
   ]
  },
  {
   "cell_type": "code",
   "execution_count": 393,
   "metadata": {
    "colab": {
     "base_uri": "https://localhost:8080/",
     "height": 225
    },
    "id": "b7GSuWqjv_fQ",
    "outputId": "2364ffdf-dad1-447c-e3bc-f3e85a047394"
   },
   "outputs": [],
   "source": [
    "X = X.apply(lambda x: RemoveSpecialCharacters(x) )"
   ]
  },
  {
   "cell_type": "markdown",
   "metadata": {
    "id": "vrEzIidPv_fd"
   },
   "source": [
    "### Lemmatize"
   ]
  },
  {
   "cell_type": "code",
   "execution_count": 394,
   "metadata": {
    "colab": {
     "base_uri": "https://localhost:8080/",
     "height": 52
    },
    "id": "UuedHgPov_ff",
    "outputId": "f9698fb8-92cf-4011-ef45-54af498bf812"
   },
   "outputs": [
    {
     "name": "stderr",
     "output_type": "stream",
     "text": [
      "[nltk_data] Downloading package wordnet to\n",
      "[nltk_data]     C:\\Users\\myrto\\AppData\\Roaming\\nltk_data...\n",
      "[nltk_data]   Package wordnet is already up-to-date!\n"
     ]
    }
   ],
   "source": [
    "import nltk\n",
    "nltk.download('wordnet')\n",
    "from nltk.stem import WordNetLemmatizer\n",
    "\n",
    "X = X.apply(lambda x: WordNetLemmatizer().lemmatize(x))"
   ]
  },
  {
   "cell_type": "markdown",
   "metadata": {
    "id": "8H0PlsO8v_gB"
   },
   "source": [
    "### Removing the upercase"
   ]
  },
  {
   "cell_type": "code",
   "execution_count": 395,
   "metadata": {
    "id": "m02cQIfQv_gE"
   },
   "outputs": [],
   "source": [
    "X = X.apply(lambda x: x.lower())"
   ]
  },
  {
   "cell_type": "markdown",
   "metadata": {},
   "source": [
    "### Create a list o all words"
   ]
  },
  {
   "cell_type": "code",
   "execution_count": 396,
   "metadata": {},
   "outputs": [],
   "source": [
    "words = []\n",
    "for row in X:\n",
    "    sentence = row.split()\n",
    "    for word in sentence:\n",
    "        words.append(word)\n",
    "        \n",
    "words.append(\"<pad>\")"
   ]
  },
  {
   "cell_type": "markdown",
   "metadata": {},
   "source": [
    "### Create the vocabulary"
   ]
  },
  {
   "cell_type": "code",
   "execution_count": 397,
   "metadata": {},
   "outputs": [],
   "source": [
    "from collections import Counter\n",
    "\n",
    "counts = Counter(words)\n",
    "vocab = sorted(counts, key=counts.get, reverse=True)\n",
    "word_2_id = {w:i for i,w in enumerate(vocab,1)}"
   ]
  },
  {
   "cell_type": "markdown",
   "metadata": {},
   "source": [
    "### Encode the words"
   ]
  },
  {
   "cell_type": "code",
   "execution_count": 398,
   "metadata": {},
   "outputs": [],
   "source": [
    "def convert_tokens_to_inds(sentence, word_2_id):\n",
    "    return [word_2_id.get(t) for t in sentence]"
   ]
  },
  {
   "cell_type": "code",
   "execution_count": 399,
   "metadata": {},
   "outputs": [],
   "source": [
    "X = X.apply(lambda x: x.split())"
   ]
  },
  {
   "cell_type": "code",
   "execution_count": 400,
   "metadata": {},
   "outputs": [],
   "source": [
    "X = X.apply(lambda x: convert_tokens_to_inds(x, word_2_id))"
   ]
  },
  {
   "cell_type": "code",
   "execution_count": 401,
   "metadata": {},
   "outputs": [
    {
     "data": {
      "text/plain": [
       "0                                                   [194640]\n",
       "1          [860, 4915, 18, 114, 3405, 12, 1548, 26, 202, ...\n",
       "2          [4, 32137, 333, 50419, 276, 46, 973, 1, 181, 630]\n",
       "3                                              [34359, 1064]\n",
       "4          [3234, 1366, 159, 186, 10, 194641, 23, 5710, 5...\n",
       "                                 ...                        \n",
       "1279995    [138603, 141, 5444, 7, 541, 86, 1, 44, 16, 34,...\n",
       "1279996                                       [9, 424, 3006]\n",
       "1279997    [186222, 18, 126, 2, 288, 63, 46, 322, 16, 12,...\n",
       "1279998    [589806, 8, 19, 193, 53, 8, 146, 19389, 9, 4, ...\n",
       "1279999                [1, 142, 333, 5072, 1, 153, 2684, 12]\n",
       "Name: text, Length: 1280000, dtype: object"
      ]
     },
     "execution_count": 401,
     "metadata": {},
     "output_type": "execute_result"
    }
   ],
   "source": [
    "X"
   ]
  },
  {
   "cell_type": "markdown",
   "metadata": {},
   "source": [
    "### Check for empty rows"
   ]
  },
  {
   "cell_type": "code",
   "execution_count": 402,
   "metadata": {},
   "outputs": [
    {
     "name": "stdout",
     "output_type": "stream",
     "text": [
      "Zero-length sentences: 0\n"
     ]
    }
   ],
   "source": [
    "rows = Counter([len(x) for x in X])\n",
    "print(\"Zero-length sentences: {}\".format(rows[0]))"
   ]
  },
  {
   "cell_type": "markdown",
   "metadata": {},
   "source": [
    "### Padding for windows.\n",
    "\n",
    "Find the maximum sentence lenght and make every sentence that long, by adding 0 on the right and left."
   ]
  },
  {
   "cell_type": "code",
   "execution_count": 403,
   "metadata": {},
   "outputs": [],
   "source": [
    "def pad_sentence_for_window(sentence, max_row, pad_token=0):\n",
    "    padding = max_row - len(sentence)\n",
    "    \n",
    "    left = (int(padding/2) if padding%2 ==0 else int(padding/2 + 1) )\n",
    "    right = int(padding/2)\n",
    "    return [pad_token]*left + sentence + [pad_token]*right"
   ]
  },
  {
   "cell_type": "code",
   "execution_count": 404,
   "metadata": {},
   "outputs": [],
   "source": [
    "max_row = max(rows)\n",
    "\n",
    "X = X.apply(lambda x: pad_sentence_for_window(x,max_row))"
   ]
  },
  {
   "cell_type": "markdown",
   "metadata": {},
   "source": [
    "### Transform data to a 2D array"
   ]
  },
  {
   "cell_type": "code",
   "execution_count": 405,
   "metadata": {},
   "outputs": [],
   "source": [
    "import numpy as np\n",
    "X = np.vstack(X.values)"
   ]
  },
  {
   "cell_type": "code",
   "execution_count": 406,
   "metadata": {},
   "outputs": [],
   "source": [
    "y = y.values.tolist()\n",
    "y = np.array(y)"
   ]
  },
  {
   "cell_type": "markdown",
   "metadata": {},
   "source": [
    "### Split data"
   ]
  },
  {
   "cell_type": "code",
   "execution_count": 407,
   "metadata": {},
   "outputs": [],
   "source": [
    "from sklearn.model_selection import train_test_split\n",
    "\n",
    "X_train, X_test, y_train, y_test = train_test_split(X, y, test_size = 0.2, random_state = 4, stratify = y)"
   ]
  },
  {
   "cell_type": "markdown",
   "metadata": {},
   "source": [
    "### Batching sentences together with a DataLoader"
   ]
  },
  {
   "cell_type": "code",
   "execution_count": 408,
   "metadata": {},
   "outputs": [],
   "source": [
    "import torch\n",
    "from torch.utils.data import TensorDataset, DataLoader\n",
    "\n",
    "# Tensor datasets\n",
    "train_data = TensorDataset(torch.from_numpy(X_train), torch.from_numpy(y_train))\n",
    "test_data = TensorDataset(torch.from_numpy(X_test), torch.from_numpy(y_test))\n",
    "\n",
    "# dataloaders\n",
    "batch_size = 32\n",
    "\n",
    "# SHUFFLE your data\n",
    "train_loader = DataLoader(train_data, shuffle=True, batch_size=batch_size)\n",
    "test_loader = DataLoader(test_data, shuffle=True, batch_size=batch_size)"
   ]
  },
  {
   "cell_type": "markdown",
   "metadata": {},
   "source": [
    "## Classifier - Model1"
   ]
  },
  {
   "cell_type": "code",
   "execution_count": 409,
   "metadata": {},
   "outputs": [],
   "source": [
    "import torch.nn as nn\n",
    "\n",
    "class Model1(nn.Module):\n",
    "    def __init__(self, vocab_size, input_dim, hidden_dim, output_size, n_layers):\n",
    "        \n",
    "        #constructor\n",
    "        super(Model1,self).__init__()\n",
    "        \n",
    "        #embedding layer\n",
    "#         self.embedding = nn.Embedding(vocab_size, embedding_dim)\n",
    "        \n",
    "        #dense layer\n",
    "        self.fc = nn.Linear(input_dim, output_size)\n",
    "        \n",
    "        #activation function\n",
    "        self.sig = nn.Sigmoid()\n",
    "\n",
    "    def forward(self, x):\n",
    "#         x = self.embedding(x)\n",
    "        x = self.fc(x)\n",
    "        x = self.sig(x)\n",
    "#         x = self.output(x)\n",
    "#         x = self.softmax(x)\n",
    "        return x\n"
   ]
  },
  {
   "cell_type": "markdown",
   "metadata": {},
   "source": [
    "### Instantiate the network"
   ]
  },
  {
   "cell_type": "code",
   "execution_count": 410,
   "metadata": {},
   "outputs": [
    {
     "name": "stdout",
     "output_type": "stream",
     "text": [
      "Model1(\n",
      "  (fc): Linear(in_features=119, out_features=1, bias=True)\n",
      "  (sig): Sigmoid()\n",
      ")\n"
     ]
    }
   ],
   "source": [
    "vocab_size = len(word_2_id) + 1 # +1 for zero padding + our word tokens\n",
    "output_size = 1\n",
    "hidden_dim = 200 \n",
    "input_dim = X_train.shape[1]\n",
    "n_layers = 2\n",
    "\n",
    "net = Model1(vocab_size, input_dim, hidden_dim, output_size, n_layers)\n",
    "\n",
    "print(net)"
   ]
  },
  {
   "cell_type": "code",
   "execution_count": 411,
   "metadata": {},
   "outputs": [],
   "source": [
    "import torch.optim as optim\n",
    "\n",
    "lr=0.001\n",
    "loss_function = nn.MSELoss()\n",
    "optimizer = torch.optim.Adam(net.parameters(), lr=lr)"
   ]
  },
  {
   "cell_type": "markdown",
   "metadata": {},
   "source": [
    "### Score function "
   ]
  },
  {
   "cell_type": "code",
   "execution_count": 412,
   "metadata": {},
   "outputs": [],
   "source": [
    "def compute_accuracy(y_pred, y_target):\n",
    "    _, y_pred_indices = y_pred.max(dim=1)\n",
    "    n_correct = torch.eq(y_pred_indices, y_target).sum().item()\n",
    "    return n_correct / len(y_pred_indices) * 100"
   ]
  },
  {
   "cell_type": "markdown",
   "metadata": {},
   "source": [
    "## Training"
   ]
  },
  {
   "cell_type": "code",
   "execution_count": 413,
   "metadata": {},
   "outputs": [
    {
     "name": "stderr",
     "output_type": "stream",
     "text": [
      "32000it [00:22, 1399.44it/s]\n",
      "32000it [00:23, 1365.66it/s]\n",
      "32000it [00:23, 1342.82it/s]\n",
      "32000it [00:24, 1313.17it/s]\n",
      "32000it [00:24, 1307.42it/s]\n",
      "32000it [00:24, 1311.78it/s]\n",
      "32000it [00:24, 1300.98it/s]\n",
      "32000it [00:25, 1254.17it/s]\n",
      "32000it [00:29, 1099.85it/s]\n",
      "32000it [00:28, 1110.42it/s]\n",
      "32000it [00:28, 1127.42it/s]\n",
      "32000it [00:28, 1130.89it/s]\n",
      "32000it [00:28, 1110.74it/s]\n",
      "32000it [00:28, 1111.94it/s]\n",
      "32000it [00:28, 1111.19it/s]\n",
      "32000it [00:28, 1125.60it/s]\n",
      "32000it [00:28, 1124.25it/s]\n",
      "32000it [00:29, 1092.32it/s]\n",
      "32000it [00:29, 1097.89it/s]\n",
      "32000it [00:29, 1102.13it/s]\n",
      "32000it [00:28, 1116.30it/s]\n",
      "32000it [00:28, 1112.10it/s]\n",
      "32000it [00:28, 1109.03it/s]\n",
      "32000it [00:28, 1114.39it/s]\n",
      "32000it [00:28, 1114.47it/s]\n",
      "32000it [00:28, 1103.77it/s]\n",
      "32000it [00:28, 1122.55it/s]\n",
      "32000it [00:29, 1100.58it/s]\n",
      "32000it [00:28, 1112.78it/s]\n",
      "32000it [00:28, 1103.71it/s]\n",
      "32000it [00:28, 1111.53it/s]\n",
      "32000it [00:28, 1106.58it/s]\n",
      "32000it [00:28, 1108.16it/s]\n",
      "32000it [00:28, 1107.52it/s]\n",
      "32000it [00:28, 1112.62it/s]\n",
      "32000it [00:28, 1106.19it/s]\n",
      "32000it [00:28, 1109.89it/s]\n",
      "32000it [00:28, 1110.46it/s]\n",
      "32000it [00:29, 1101.69it/s]\n",
      "32000it [00:28, 1107.29it/s]\n",
      "32000it [00:29, 1081.74it/s]\n",
      "32000it [00:28, 1110.99it/s]\n",
      "32000it [00:28, 1128.66it/s]\n",
      "32000it [00:27, 1146.38it/s]\n",
      "32000it [03:56, 135.05it/s] \n",
      "32000it [00:25, 1270.32it/s]\n",
      "32000it [00:28, 1107.87it/s]\n",
      "32000it [00:28, 1108.18it/s]\n",
      "32000it [00:28, 1106.28it/s]\n",
      "32000it [00:29, 1086.01it/s]\n"
     ]
    }
   ],
   "source": [
    "from tqdm import tqdm\n",
    "\n",
    "num_epochs = 50\n",
    "\n",
    "list_of_losses = []\n",
    "list_of_acc = []\n",
    "\n",
    "for epoch in range(num_epochs):\n",
    "    running_loss = 0.0\n",
    "    running_acc = 0.0\n",
    "    net.train()\n",
    "    for batch_index, batch in tqdm(enumerate(train_loader)):\n",
    "        x_train, y_train = batch[0], batch[1]\n",
    "        x_train = x_train.float()\n",
    "        y_train = y_train.float()\n",
    "        \n",
    "        # step 1. zero the gradients\n",
    "        optimizer.zero_grad()\n",
    "\n",
    "        # step 2. compute the output\n",
    "        y_pred = net(x_train)\n",
    "\n",
    "        # step 3. compute the loss\n",
    "        loss = loss_function(y_pred.squeeze(), y_train)\n",
    "        loss_t = loss.item()\n",
    "        running_loss += (loss_t - running_loss) / (batch_index + 1)\n",
    "\n",
    "        # step 4. use loss to produce gradients\n",
    "        loss.backward()\n",
    "\n",
    "        # step 5. use optimizer to take gradient step\n",
    "        optimizer.step()\n",
    "        # -----------------------------------------\n",
    "        # compute the accuracy\n",
    "        acc_t = compute_accuracy(y_pred, y_train)\n",
    "        running_acc += (acc_t - running_acc) / (batch_index + 1)\n",
    "   \n",
    "    list_of_losses.append(running_loss)\n",
    "    list_of_acc.append(running_acc)\n"
   ]
  },
  {
   "cell_type": "code",
   "execution_count": 414,
   "metadata": {},
   "outputs": [
    {
     "name": "stdout",
     "output_type": "stream",
     "text": [
      "[49.952441406249655, 49.95244140625021, 49.952441406249726, 49.95244140624972, 49.95244140624968, 49.95244140624991, 49.95244140624968, 49.95244140624981, 49.952441406250195, 49.952441406249655, 49.95244140625012, 49.95244140624992, 49.95244140624985, 49.95244140625006, 49.95244140624995, 49.95244140624992, 49.952441406250074, 49.95244140625004, 49.952441406250024, 49.95244140625006, 49.9524414062498, 49.95244140625003, 49.952441406250095, 49.95244140624995, 49.95244140625011, 49.95244140624995, 49.95244140624979, 49.952441406250365, 49.9524414062503, 49.95244140624983, 49.952441406249875, 49.95244140625035, 49.952441406250244, 49.95244140625009, 49.95244140624988, 49.952441406250045, 49.95244140625014, 49.952441406250045, 49.95244140624972, 49.95244140624983, 49.952441406249974, 49.952441406250145, 49.952441406249854, 49.952441406250294, 49.952441406250074, 49.952441406249505, 49.952441406250095, 49.9524414062499, 49.952441406249854, 49.95244140625009]\n"
     ]
    }
   ],
   "source": [
    "print(list_of_acc)"
   ]
  },
  {
   "cell_type": "code",
   "execution_count": 415,
   "metadata": {},
   "outputs": [
    {
     "name": "stdout",
     "output_type": "stream",
     "text": [
      "[0.48858447833871343, 0.49075259127654053, 0.4928168434780087, 0.49640740413498297, 0.5004110684059596, 0.5004999989084924, 0.50049999860674, 0.5004999981587775, 0.5004999959562074, 0.5004999943152052, 0.5004013557033564, 0.49844354333635443, 0.49700209361361214, 0.5001009447239321, 0.4995107389180896, 0.49956578909000626, 0.4990217291382119, 0.49958791788062307, 0.500020136715376, 0.49841186832310536, 0.4987901349938466, 0.4998729211436594, 0.4994963711537407, 0.4992566777402534, 0.4997555513870884, 0.49929302887758287, 0.4982258266801959, 0.499344069693236, 0.4992588027045134, 0.49822243971983127, 0.49846446063089983, 0.4985831323545414, 0.4991029941919239, 0.4981015524761762, 0.4989248820347739, 0.5004273619567977, 0.4981387082841249, 0.49955207099672344, 0.4986564508969873, 0.49968907251022743, 0.4994264059653498, 0.4996543103614839, 0.49814619185868597, 0.4983540568193412, 0.49819209470506975, 0.49814723806129596, 0.49797411802876745, 0.49791086177854027, 0.49784772854158577, 0.4981089231325323]\n"
     ]
    }
   ],
   "source": [
    "print(list_of_losses)"
   ]
  },
  {
   "cell_type": "markdown",
   "metadata": {},
   "source": [
    "## Testing"
   ]
  },
  {
   "cell_type": "code",
   "execution_count": 416,
   "metadata": {},
   "outputs": [
    {
     "name": "stderr",
     "output_type": "stream",
     "text": [
      "8000it [00:03, 2089.45it/s]\n"
     ]
    }
   ],
   "source": [
    "from sklearn.metrics import accuracy_score\n",
    "accuracy = []\n",
    "for bidx, batch in tqdm(enumerate(test_loader)):\n",
    "    x_test, y_test = batch[0], batch[1]\n",
    "    x_test = x_test.float()\n",
    "    y_test = y_test.float()\n",
    "    output = net.forward(x_test)\n",
    "    acc = compute_accuracy(output, y_test)\n",
    "    accuracy.append(acc)"
   ]
  },
  {
   "cell_type": "code",
   "execution_count": 417,
   "metadata": {},
   "outputs": [],
   "source": [
    "def Average(lst): \n",
    "    return sum(lst) / len(lst) \n",
    "  \n",
    "average = Average(accuracy) "
   ]
  },
  {
   "cell_type": "code",
   "execution_count": 418,
   "metadata": {},
   "outputs": [
    {
     "data": {
      "text/plain": [
       "49.95234375"
      ]
     },
     "execution_count": 418,
     "metadata": {},
     "output_type": "execute_result"
    }
   ],
   "source": [
    "average"
   ]
  }
 ],
 "metadata": {
  "colab": {
   "name": "question3.ipynb",
   "provenance": []
  },
  "kernelspec": {
   "display_name": "Python 3.6.8 64-bit ('opencv-env': conda)",
   "language": "python",
   "name": "python36864bitopencvenvcondad263f100daf4493e8e73d9bd1ee965a1"
  },
  "language_info": {
   "codemirror_mode": {
    "name": "ipython",
    "version": 3
   },
   "file_extension": ".py",
   "mimetype": "text/x-python",
   "name": "python",
   "nbconvert_exporter": "python",
   "pygments_lexer": "ipython3",
   "version": "3.6.8"
  }
 },
 "nbformat": 4,
 "nbformat_minor": 1
}
