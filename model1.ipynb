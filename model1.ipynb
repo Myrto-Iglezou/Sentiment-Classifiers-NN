{
 "cells": [
  {
   "cell_type": "markdown",
   "metadata": {
    "id": "dyEq68iPv_dw"
   },
   "source": [
    "## YΣ19 Artificial Intelligence II\n",
    "# Homework 2\n",
    "\n",
    "### Iglezou Myrto - 111520170038"
   ]
  },
  {
   "cell_type": "markdown",
   "metadata": {
    "id": "noegXjJov_d1"
   },
   "source": [
    "# Model 1"
   ]
  },
  {
   "cell_type": "code",
   "execution_count": 1,
   "metadata": {
    "id": "R4FkLNHBv_d4"
   },
   "outputs": [],
   "source": [
    "import pandas as pd \n",
    "from pandas import DataFrame, read_csv"
   ]
  },
  {
   "cell_type": "code",
   "execution_count": 2,
   "metadata": {
    "colab": {
     "base_uri": "https://localhost:8080/",
     "height": 271
    },
    "id": "mFmTNtE4v_eI",
    "outputId": "f8a8037a-4d5a-4ec2-c065-6f2ce4016301"
   },
   "outputs": [
    {
     "data": {
      "text/html": [
       "<div>\n",
       "<style scoped>\n",
       "    .dataframe tbody tr th:only-of-type {\n",
       "        vertical-align: middle;\n",
       "    }\n",
       "\n",
       "    .dataframe tbody tr th {\n",
       "        vertical-align: top;\n",
       "    }\n",
       "\n",
       "    .dataframe thead th {\n",
       "        text-align: right;\n",
       "    }\n",
       "</style>\n",
       "<table border=\"1\" class=\"dataframe\">\n",
       "  <thead>\n",
       "    <tr style=\"text-align: right;\">\n",
       "      <th></th>\n",
       "      <th>Unnamed: 0</th>\n",
       "      <th>target</th>\n",
       "      <th>id</th>\n",
       "      <th>date</th>\n",
       "      <th>flag</th>\n",
       "      <th>user</th>\n",
       "      <th>text</th>\n",
       "    </tr>\n",
       "  </thead>\n",
       "  <tbody>\n",
       "    <tr>\n",
       "      <th>0</th>\n",
       "      <td>680949</td>\n",
       "      <td>0</td>\n",
       "      <td>2249621587</td>\n",
       "      <td>Fri Jun 19 22:41:08 PDT 2009</td>\n",
       "      <td>NO_QUERY</td>\n",
       "      <td>sukumarpant</td>\n",
       "      <td>#brokenpromises...</td>\n",
       "    </tr>\n",
       "    <tr>\n",
       "      <th>1</th>\n",
       "      <td>406741</td>\n",
       "      <td>0</td>\n",
       "      <td>2059003515</td>\n",
       "      <td>Sat Jun 06 16:03:21 PDT 2009</td>\n",
       "      <td>NO_QUERY</td>\n",
       "      <td>MTMSparrow</td>\n",
       "      <td>David Carradine  so sad. Thai's law not sure i...</td>\n",
       "    </tr>\n",
       "    <tr>\n",
       "      <th>2</th>\n",
       "      <td>1337108</td>\n",
       "      <td>4</td>\n",
       "      <td>2017466467</td>\n",
       "      <td>Wed Jun 03 08:26:14 PDT 2009</td>\n",
       "      <td>NO_QUERY</td>\n",
       "      <td>itsmemcee</td>\n",
       "      <td>A @ 415 B @ 425. Tell your bro i say congrats!</td>\n",
       "    </tr>\n",
       "    <tr>\n",
       "      <th>3</th>\n",
       "      <td>1560887</td>\n",
       "      <td>4</td>\n",
       "      <td>2186457254</td>\n",
       "      <td>Mon Jun 15 18:52:04 PDT 2009</td>\n",
       "      <td>NO_QUERY</td>\n",
       "      <td>jdfreivald</td>\n",
       "      <td>@littlefluffycat  Indeed.</td>\n",
       "    </tr>\n",
       "    <tr>\n",
       "      <th>4</th>\n",
       "      <td>1466295</td>\n",
       "      <td>4</td>\n",
       "      <td>2064458395</td>\n",
       "      <td>Sun Jun 07 06:19:20 PDT 2009</td>\n",
       "      <td>NO_QUERY</td>\n",
       "      <td>CrazyHan</td>\n",
       "      <td>Completed Race 4 Life in 58mins with girlies f...</td>\n",
       "    </tr>\n",
       "  </tbody>\n",
       "</table>\n",
       "</div>"
      ],
      "text/plain": [
       "   Unnamed: 0  target          id                          date      flag  \\\n",
       "0      680949       0  2249621587  Fri Jun 19 22:41:08 PDT 2009  NO_QUERY   \n",
       "1      406741       0  2059003515  Sat Jun 06 16:03:21 PDT 2009  NO_QUERY   \n",
       "2     1337108       4  2017466467  Wed Jun 03 08:26:14 PDT 2009  NO_QUERY   \n",
       "3     1560887       4  2186457254  Mon Jun 15 18:52:04 PDT 2009  NO_QUERY   \n",
       "4     1466295       4  2064458395  Sun Jun 07 06:19:20 PDT 2009  NO_QUERY   \n",
       "\n",
       "          user                                               text  \n",
       "0  sukumarpant                                #brokenpromises...   \n",
       "1   MTMSparrow  David Carradine  so sad. Thai's law not sure i...  \n",
       "2    itsmemcee    A @ 415 B @ 425. Tell your bro i say congrats!   \n",
       "3   jdfreivald                          @littlefluffycat  Indeed.  \n",
       "4     CrazyHan  Completed Race 4 Life in 58mins with girlies f...  "
      ]
     },
     "execution_count": 2,
     "metadata": {},
     "output_type": "execute_result"
    }
   ],
   "source": [
    "# import gdown\n",
    "# url = 'https://drive.google.com/file/d/1dTIWNpjlrnTQBIQtaGOh0jCRYZiAQO79/view?usp=sharing'\n",
    "# path = 'https://drive.google.com/uc?export=download&id='+url.split('/')[-2]\n",
    "# output = \"twitterData.csv\"\n",
    "# gdown.download(path, output, quiet=False)\n",
    "# twitterData = pd.read_csv(\"/content/twitterData.csv\")\n",
    "# df = pd.DataFrame(data=twitterData)\n",
    "# df.head(5)\n",
    "\n",
    "path = r\"C:\\Users\\myrto\\Documents\\GitHub\\AI2-project2\\SentimentTweets.csv\"\n",
    "file = pd.read_csv(path,index_col=False,nrows=50000)\n",
    "# file = pd.read_csv(path,index_col=False)\n",
    "df = pd.DataFrame(data=file)\n",
    "df.head(5)"
   ]
  },
  {
   "cell_type": "code",
   "execution_count": 3,
   "metadata": {
    "id": "OHPG20asv_eY"
   },
   "outputs": [],
   "source": [
    "df['target'].replace({4: 1}, inplace = True)\n",
    "X = df['text']\n",
    "y = df['target']"
   ]
  },
  {
   "cell_type": "markdown",
   "metadata": {
    "id": "Rlugq5Ilv_e_"
   },
   "source": [
    "## Data pre-processing"
   ]
  },
  {
   "cell_type": "markdown",
   "metadata": {
    "id": "352xjl03v_fC"
   },
   "source": [
    "### Removing the scpecial characters"
   ]
  },
  {
   "cell_type": "code",
   "execution_count": 4,
   "metadata": {
    "id": "z3MOkeo2v_fE"
   },
   "outputs": [],
   "source": [
    "import re\n",
    "\n",
    "def RemoveSpecialCharacters(x):\n",
    "    x = re.sub(r'[^\\w]+', \" \", x)\n",
    "    return x"
   ]
  },
  {
   "cell_type": "code",
   "execution_count": 5,
   "metadata": {
    "colab": {
     "base_uri": "https://localhost:8080/",
     "height": 225
    },
    "id": "b7GSuWqjv_fQ",
    "outputId": "2364ffdf-dad1-447c-e3bc-f3e85a047394"
   },
   "outputs": [],
   "source": [
    "X = X.apply(lambda x: RemoveSpecialCharacters(x) )"
   ]
  },
  {
   "cell_type": "markdown",
   "metadata": {
    "id": "vrEzIidPv_fd"
   },
   "source": [
    "### Lemmatize"
   ]
  },
  {
   "cell_type": "code",
   "execution_count": 6,
   "metadata": {
    "colab": {
     "base_uri": "https://localhost:8080/",
     "height": 52
    },
    "id": "UuedHgPov_ff",
    "outputId": "f9698fb8-92cf-4011-ef45-54af498bf812"
   },
   "outputs": [
    {
     "name": "stderr",
     "output_type": "stream",
     "text": [
      "[nltk_data] Downloading package wordnet to\n",
      "[nltk_data]     C:\\Users\\myrto\\AppData\\Roaming\\nltk_data...\n",
      "[nltk_data]   Package wordnet is already up-to-date!\n"
     ]
    }
   ],
   "source": [
    "import nltk\n",
    "nltk.download('wordnet')\n",
    "from nltk.stem import WordNetLemmatizer\n",
    "\n",
    "X = X.apply(lambda x: WordNetLemmatizer().lemmatize(x))"
   ]
  },
  {
   "cell_type": "markdown",
   "metadata": {
    "id": "8H0PlsO8v_gB"
   },
   "source": [
    "### Removing the upercase"
   ]
  },
  {
   "cell_type": "code",
   "execution_count": 7,
   "metadata": {
    "id": "m02cQIfQv_gE"
   },
   "outputs": [],
   "source": [
    "X = X.apply(lambda x: x.lower())"
   ]
  },
  {
   "cell_type": "markdown",
   "metadata": {},
   "source": [
    "### Create a list o all words"
   ]
  },
  {
   "cell_type": "code",
   "execution_count": 8,
   "metadata": {},
   "outputs": [],
   "source": [
    "words = []\n",
    "for row in X:\n",
    "    sentence = row.split()\n",
    "    for word in sentence:\n",
    "        words.append(word)\n",
    "        \n",
    "words.append(\"<pad>\")"
   ]
  },
  {
   "cell_type": "markdown",
   "metadata": {},
   "source": [
    "### Create the vocabulary"
   ]
  },
  {
   "cell_type": "code",
   "execution_count": 9,
   "metadata": {},
   "outputs": [],
   "source": [
    "from collections import Counter\n",
    "\n",
    "counts = Counter(words)\n",
    "vocab = sorted(counts, key=counts.get, reverse=True)\n",
    "word_2_id = {w:i for i,w in enumerate(vocab,1)}"
   ]
  },
  {
   "cell_type": "markdown",
   "metadata": {},
   "source": [
    "### Encode the words"
   ]
  },
  {
   "cell_type": "code",
   "execution_count": 10,
   "metadata": {},
   "outputs": [],
   "source": [
    "def convert_tokens_to_inds(sentence, word_2_id):\n",
    "    return [word_2_id.get(t) for t in sentence]"
   ]
  },
  {
   "cell_type": "code",
   "execution_count": 11,
   "metadata": {},
   "outputs": [],
   "source": [
    "X = X.apply(lambda x: x.split())"
   ]
  },
  {
   "cell_type": "code",
   "execution_count": 12,
   "metadata": {},
   "outputs": [],
   "source": [
    "X = X.apply(lambda x: convert_tokens_to_inds(x, word_2_id))"
   ]
  },
  {
   "cell_type": "code",
   "execution_count": 13,
   "metadata": {},
   "outputs": [
    {
     "data": {
      "text/plain": [
       "0                                                  [16916]\n",
       "1        [873, 4516, 18, 112, 2751, 12, 1510, 26, 192, ...\n",
       "2        [4, 16919, 315, 16920, 294, 46, 1037, 1, 202, ...\n",
       "3                                            [16921, 1135]\n",
       "4        [3860, 1267, 154, 177, 10, 16922, 23, 5502, 54...\n",
       "                               ...                        \n",
       "49995               [3904, 214, 190, 1478, 163, 1198, 106]\n",
       "49996    [58980, 87, 77, 1, 20, 26, 478, 18, 22, 2140, ...\n",
       "49997    [1, 129, 107, 651, 15, 154, 210, 14, 117, 225,...\n",
       "49998          [13382, 8, 7, 2659, 881, 3404, 19, 8, 2764]\n",
       "49999                      [58981, 166, 8, 11, 139, 4, 98]\n",
       "Name: text, Length: 50000, dtype: object"
      ]
     },
     "execution_count": 13,
     "metadata": {},
     "output_type": "execute_result"
    }
   ],
   "source": [
    "X"
   ]
  },
  {
   "cell_type": "markdown",
   "metadata": {},
   "source": [
    "### Check for empty rows"
   ]
  },
  {
   "cell_type": "code",
   "execution_count": 14,
   "metadata": {},
   "outputs": [
    {
     "name": "stdout",
     "output_type": "stream",
     "text": [
      "Zero-length sentences: 0\n"
     ]
    }
   ],
   "source": [
    "rows = Counter([len(x) for x in X])\n",
    "print(\"Zero-length sentences: {}\".format(rows[0]))"
   ]
  },
  {
   "cell_type": "markdown",
   "metadata": {},
   "source": [
    "### Padding for windows.\n",
    "\n",
    "Find the maximum sentence lenght and make every sentence that long, by adding 0 on the right and left."
   ]
  },
  {
   "cell_type": "code",
   "execution_count": 15,
   "metadata": {},
   "outputs": [],
   "source": [
    "def pad_sentence_for_window(sentence, max_row, pad_token=0):\n",
    "    padding = max_row - len(sentence)\n",
    "    \n",
    "    left = (int(padding/2) if padding%2 ==0 else int(padding/2 + 1) )\n",
    "    right = int(padding/2)\n",
    "    return [pad_token]*left + sentence + [pad_token]*right"
   ]
  },
  {
   "cell_type": "code",
   "execution_count": 16,
   "metadata": {},
   "outputs": [],
   "source": [
    "max_row = max(rows)\n",
    "\n",
    "X = X.apply(lambda x: pad_sentence_for_window(x,max_row))"
   ]
  },
  {
   "cell_type": "markdown",
   "metadata": {},
   "source": [
    "### Transform data to a 2D array"
   ]
  },
  {
   "cell_type": "code",
   "execution_count": 17,
   "metadata": {},
   "outputs": [],
   "source": [
    "import numpy as np\n",
    "X = np.vstack(X.values)"
   ]
  },
  {
   "cell_type": "code",
   "execution_count": 18,
   "metadata": {},
   "outputs": [],
   "source": [
    "y = y.values.tolist()\n",
    "y = np.array(y)"
   ]
  },
  {
   "cell_type": "markdown",
   "metadata": {},
   "source": [
    "### Split data"
   ]
  },
  {
   "cell_type": "code",
   "execution_count": 19,
   "metadata": {},
   "outputs": [],
   "source": [
    "from sklearn.model_selection import train_test_split\n",
    "\n",
    "X_train, X_test, y_train, y_test = train_test_split(X, y, test_size = 0.2, random_state = 4, stratify = y)"
   ]
  },
  {
   "cell_type": "markdown",
   "metadata": {},
   "source": [
    "### Batching sentences together with a DataLoader"
   ]
  },
  {
   "cell_type": "code",
   "execution_count": 20,
   "metadata": {},
   "outputs": [],
   "source": [
    "import torch\n",
    "from torch.utils.data import TensorDataset, DataLoader\n",
    "\n",
    "# Tensor datasets\n",
    "train_data = TensorDataset(torch.from_numpy(X_train), torch.from_numpy(y_train))\n",
    "test_data = TensorDataset(torch.from_numpy(X_test), torch.from_numpy(y_test))\n",
    "\n",
    "# dataloaders\n",
    "batch_size = 32\n",
    "\n",
    "# SHUFFLE your data\n",
    "train_loader = DataLoader(train_data, shuffle=True, batch_size=batch_size)\n",
    "test_loader = DataLoader(test_data, shuffle=True, batch_size=batch_size)"
   ]
  },
  {
   "cell_type": "markdown",
   "metadata": {},
   "source": [
    "## Classifier - Model1"
   ]
  },
  {
   "cell_type": "code",
   "execution_count": 21,
   "metadata": {},
   "outputs": [],
   "source": [
    "import torch.nn as nn\n",
    "\n",
    "class Model1(nn.Module):\n",
    "    def __init__(self, vocab_size, input_dim, hidden_dim, output_size, n_layers):\n",
    "        \n",
    "        #constructor\n",
    "        super(Model1,self).__init__()\n",
    "        \n",
    "        #embedding layer\n",
    "#         self.embedding = nn.Embedding(vocab_size, embedding_dim)\n",
    "        \n",
    "        #dense layer\n",
    "        self.fc = nn.Linear(input_dim, output_size)\n",
    "        \n",
    "        #activation function\n",
    "        self.sig = nn.Sigmoid()\n",
    "\n",
    "    def forward(self, x):\n",
    "#         x = self.embedding(x)\n",
    "        x = self.fc(x)\n",
    "        x = self.sig(x)\n",
    "#         x = self.output(x)\n",
    "#         x = self.softmax(x)\n",
    "        return x\n"
   ]
  },
  {
   "cell_type": "markdown",
   "metadata": {},
   "source": [
    "### Instantiate the network"
   ]
  },
  {
   "cell_type": "code",
   "execution_count": 22,
   "metadata": {},
   "outputs": [
    {
     "name": "stdout",
     "output_type": "stream",
     "text": [
      "Model1(\n",
      "  (fc): Linear(in_features=73, out_features=1, bias=True)\n",
      "  (sig): Sigmoid()\n",
      ")\n"
     ]
    }
   ],
   "source": [
    "vocab_size = len(word_2_id) + 1 # +1 for zero padding + our word tokens\n",
    "output_size = 1\n",
    "hidden_dim = 200 \n",
    "input_dim = X_train.shape[1]\n",
    "n_layers = 2\n",
    "\n",
    "net = Model1(vocab_size, input_dim, hidden_dim, output_size, n_layers)\n",
    "\n",
    "print(net)"
   ]
  },
  {
   "cell_type": "code",
   "execution_count": 23,
   "metadata": {},
   "outputs": [],
   "source": [
    "import torch.optim as optim\n",
    "\n",
    "lr=0.001\n",
    "loss_function = nn.MSELoss()\n",
    "optimizer = torch.optim.Adam(net.parameters(), lr=lr)"
   ]
  },
  {
   "cell_type": "markdown",
   "metadata": {},
   "source": [
    "### Score function "
   ]
  },
  {
   "cell_type": "code",
   "execution_count": 24,
   "metadata": {},
   "outputs": [],
   "source": [
    "def compute_accuracy(y_pred, y_target):\n",
    "    _, y_pred_indices = y_pred.max(dim=1)\n",
    "    n_correct = torch.eq(y_pred_indices, y_target).sum().item()\n",
    "    return n_correct / len(y_pred_indices) * 100"
   ]
  },
  {
   "cell_type": "markdown",
   "metadata": {},
   "source": [
    "## Training"
   ]
  },
  {
   "cell_type": "code",
   "execution_count": 25,
   "metadata": {},
   "outputs": [
    {
     "name": "stderr",
     "output_type": "stream",
     "text": [
      "1250it [00:02, 503.62it/s]\n",
      "1250it [00:02, 537.17it/s]\n",
      "1250it [00:02, 532.61it/s]\n",
      "1250it [00:02, 540.99it/s]\n",
      "1250it [00:02, 533.21it/s]\n",
      "1250it [00:02, 530.51it/s]\n",
      "1250it [00:01, 692.29it/s]\n",
      "1250it [00:01, 631.15it/s]\n",
      "1250it [00:01, 755.81it/s]\n",
      "1250it [00:01, 697.72it/s]\n",
      "1250it [00:01, 710.97it/s]\n",
      "1250it [00:01, 796.60it/s]\n",
      "1250it [00:01, 746.82it/s]\n",
      "1250it [00:01, 721.40it/s]\n",
      "1250it [00:01, 745.68it/s]\n",
      "1250it [00:01, 757.54it/s]\n",
      "1250it [00:01, 708.48it/s]\n",
      "1250it [00:01, 738.42it/s]\n",
      "1250it [00:01, 798.99it/s]\n",
      "1250it [00:01, 677.08it/s]\n",
      "1250it [00:01, 702.79it/s]\n",
      "1250it [00:01, 712.07it/s]\n",
      "1250it [00:01, 639.75it/s]\n",
      "1250it [00:01, 678.90it/s]\n",
      "1250it [00:01, 801.77it/s]\n",
      "1250it [00:01, 773.84it/s]\n",
      "1250it [00:01, 739.16it/s]\n",
      "1250it [00:01, 651.12it/s]\n",
      "1250it [00:01, 698.70it/s]\n",
      "1250it [00:01, 735.21it/s]\n",
      "1250it [00:02, 582.80it/s]\n",
      "1250it [00:02, 601.57it/s]\n",
      "1250it [00:01, 699.29it/s]\n",
      "1250it [00:02, 603.48it/s]\n",
      "1250it [00:01, 700.66it/s]\n",
      "1250it [00:01, 726.45it/s]\n",
      "1250it [00:01, 714.33it/s]\n",
      "1250it [00:01, 674.22it/s]\n",
      "1250it [00:01, 688.55it/s]\n",
      "1250it [00:02, 605.72it/s]\n",
      "1250it [00:01, 799.03it/s]\n",
      "1250it [00:01, 660.66it/s]\n",
      "1250it [00:02, 624.15it/s]\n",
      "1250it [00:01, 690.17it/s]\n",
      "1250it [00:01, 707.34it/s]\n",
      "1250it [00:01, 760.95it/s]\n",
      "1250it [00:01, 778.57it/s]\n",
      "1250it [00:01, 668.81it/s]\n",
      "1250it [00:01, 730.64it/s]\n",
      "1250it [00:02, 569.29it/s]\n"
     ]
    }
   ],
   "source": [
    "\n",
    "num_epochs = 50\n",
    "\n",
    "list_of_losses = []\n",
    "list_of_acc = []\n",
    "\n",
    "for epoch in range(num_epochs):\n",
    "    running_loss = 0.0\n",
    "    running_acc = 0.0\n",
    "    net.train()\n",
    "    for batch_index, batch in tqdm(enumerate(train_loader)):\n",
    "        x_train, y_train = batch[0], batch[1]\n",
    "        x_train = x_train.float()\n",
    "        y_train = y_train.float()\n",
    "        \n",
    "        # step 1. zero the gradients\n",
    "        optimizer.zero_grad()\n",
    "\n",
    "        # step 2. compute the output\n",
    "        y_pred = net(x_train)\n",
    "\n",
    "        # step 3. compute the loss\n",
    "        loss = loss_function(y_pred.squeeze(), y_train)\n",
    "        loss_t = loss.item()\n",
    "        running_loss += (loss_t - running_loss) / (batch_index + 1)\n",
    "\n",
    "        # step 4. use loss to produce gradients\n",
    "        loss.backward()\n",
    "\n",
    "        # step 5. use optimizer to take gradient step\n",
    "        optimizer.step()\n",
    "        # -----------------------------------------\n",
    "        # compute the accuracy\n",
    "        acc_t = compute_accuracy(y_pred, y_train)\n",
    "        running_acc += (acc_t - running_acc) / (batch_index + 1)\n",
    "   \n",
    "    list_of_losses.append(running_loss)\n",
    "    list_of_acc.append(running_acc)\n"
   ]
  },
  {
   "cell_type": "code",
   "execution_count": 26,
   "metadata": {},
   "outputs": [
    {
     "name": "stdout",
     "output_type": "stream",
     "text": [
      "[49.52750000000004, 49.52750000000001, 49.52749999999996, 49.527499999999954, 49.527500000000025, 49.52750000000004, 49.52749999999997, 49.527499999999996, 49.52750000000006, 49.52750000000003, 49.52750000000001, 49.527499999999996, 49.527499999999996, 49.52749999999995, 49.52750000000004, 49.52749999999999, 49.52750000000002, 49.52750000000001, 49.527499999999996, 49.527499999999925, 49.52749999999997, 49.527499999999975, 49.5275, 49.52750000000004, 49.527499999999996, 49.52750000000003, 49.52750000000002, 49.527500000000074, 49.52749999999993, 49.527499999999996, 49.52749999999995, 49.527499999999975, 49.5275, 49.52750000000002, 49.527500000000025, 49.52749999999994, 49.52749999999996, 49.527499999999975, 49.527499999999996, 49.52749999999997, 49.527499999999975, 49.52749999999999, 49.527500000000025, 49.52749999999997, 49.52749999999999, 49.52749999999993, 49.52749999999995, 49.5275, 49.527499999999975, 49.52750000000004]\n"
     ]
    }
   ],
   "source": [
    "print(list_of_acc)"
   ]
  },
  {
   "cell_type": "code",
   "execution_count": 27,
   "metadata": {},
   "outputs": [
    {
     "name": "stdout",
     "output_type": "stream",
     "text": [
      "[0.4955268040060998, 0.4900342797994614, 0.4927634692788127, 0.49257207876443865, 0.49739585697650945, 0.49630328817367625, 0.49312547192573614, 0.4844312515139576, 0.4845646437048913, 0.48331157603263863, 0.48213051087856273, 0.48522799395322785, 0.48742447457313565, 0.4878999354958533, 0.48703286358118064, 0.48486076668500927, 0.4836996166229243, 0.48810735704898806, 0.48952973750829665, 0.4844412476062772, 0.4820624444007879, 0.48140893206596364, 0.48038919258117646, 0.482888132500648, 0.4858780835032456, 0.48968825011253336, 0.49014489669799827, 0.49000135726928695, 0.49187251852750785, 0.49287343341112094, 0.4901151842474946, 0.48796904115676953, 0.48550836976766637, 0.4855435858011246, 0.4886724588036531, 0.4883618970990176, 0.48862697075605405, 0.4870296754240994, 0.4928545437932014, 0.49479701517820374, 0.49396549699306513, 0.4941872516155243, 0.4950650214910509, 0.489362332355976, 0.4880467644810679, 0.48932889599800117, 0.4862655196905136, 0.488326912605762, 0.49286324059963194, 0.4930849447846411]\n"
     ]
    }
   ],
   "source": [
    "print(list_of_losses)"
   ]
  },
  {
   "cell_type": "markdown",
   "metadata": {},
   "source": [
    "## Testing"
   ]
  },
  {
   "cell_type": "code",
   "execution_count": 28,
   "metadata": {},
   "outputs": [
    {
     "name": "stderr",
     "output_type": "stream",
     "text": [
      "313it [00:00, 1366.16it/s]\n"
     ]
    }
   ],
   "source": [
    "from sklearn.metrics import accuracy_score\n",
    "accuracy = []\n",
    "for bidx, batch in tqdm(enumerate(test_loader)):\n",
    "    x_test, y_test = batch[0], batch[1]\n",
    "    x_test = x_test.float()\n",
    "    y_test = y_test.float()\n",
    "    output = net.forward(x_test)\n",
    "    acc = compute_accuracy(output, y_test)\n",
    "    accuracy.append(acc)"
   ]
  },
  {
   "cell_type": "code",
   "execution_count": 29,
   "metadata": {},
   "outputs": [],
   "source": [
    "def Average(lst): \n",
    "    return sum(lst) / len(lst) \n",
    "  \n",
    "average = Average(accuracy) "
   ]
  },
  {
   "cell_type": "code",
   "execution_count": 30,
   "metadata": {},
   "outputs": [
    {
     "data": {
      "text/plain": [
       "49.530750798722046"
      ]
     },
     "execution_count": 30,
     "metadata": {},
     "output_type": "execute_result"
    }
   ],
   "source": [
    "average"
   ]
  }
 ],
 "metadata": {
  "colab": {
   "name": "question3.ipynb",
   "provenance": []
  },
  "kernelspec": {
   "display_name": "Python 3.6.8 64-bit ('opencv-env': conda)",
   "language": "python",
   "name": "python36864bitopencvenvcondad263f100daf4493e8e73d9bd1ee965a1"
  },
  "language_info": {
   "codemirror_mode": {
    "name": "ipython",
    "version": 3
   },
   "file_extension": ".py",
   "mimetype": "text/x-python",
   "name": "python",
   "nbconvert_exporter": "python",
   "pygments_lexer": "ipython3",
   "version": "3.6.8"
  }
 },
 "nbformat": 4,
 "nbformat_minor": 1
}
