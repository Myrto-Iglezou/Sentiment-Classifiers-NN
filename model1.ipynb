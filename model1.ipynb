{
  "nbformat": 4,
  "nbformat_minor": 0,
  "metadata": {
    "kernelspec": {
      "display_name": "Python 3.6.8 64-bit ('opencv-env': conda)",
      "language": "python",
      "name": "python36864bitopencvenvcondad263f100daf4493e8e73d9bd1ee965a1"
    },
    "language_info": {
      "codemirror_mode": {
        "name": "ipython",
        "version": 3
      },
      "file_extension": ".py",
      "mimetype": "text/x-python",
      "name": "python",
      "nbconvert_exporter": "python",
      "pygments_lexer": "ipython3",
      "version": "3.6.8"
    },
    "colab": {
      "name": "model3.ipynb",
      "provenance": [],
      "include_colab_link": true
    }
  },
  "cells": [
    {
      "cell_type": "markdown",
      "metadata": {
        "id": "view-in-github",
        "colab_type": "text"
      },
      "source": [
        "<a href=\"https://colab.research.google.com/github/Myrto-Iglezou/AI2-project2/blob/master/model1.ipynb\" target=\"_parent\"><img src=\"https://colab.research.google.com/assets/colab-badge.svg\" alt=\"Open In Colab\"/></a>"
      ]
    },
    {
      "cell_type": "markdown",
      "metadata": {
        "id": "eOoUR08ESUJj"
      },
      "source": [
        "## YΣ19 Artificial Intelligence II\n",
        "# Homework 2\n",
        "\n",
        "### Iglezou Myrto - 111520170038"
      ]
    },
    {
      "cell_type": "markdown",
      "metadata": {
        "id": "FF6rJUV7SUJk"
      },
      "source": [
        "# Model 1"
      ]
    },
    {
      "cell_type": "code",
      "metadata": {
        "id": "vqFzJfkjSUJk"
      },
      "source": [
        "import pandas as pd \n",
        "from pandas import DataFrame, read_csv"
      ],
      "execution_count": 1,
      "outputs": []
    },
    {
      "cell_type": "markdown",
      "metadata": {
        "id": "2H5GnFzSkKbA"
      },
      "source": [
        "Download the dataset"
      ]
    },
    {
      "cell_type": "code",
      "metadata": {
        "colab": {
          "base_uri": "https://localhost:8080/",
          "height": 202
        },
        "id": "wsFlMttISUJk",
        "outputId": "bd6b911e-cc51-4b4b-da23-84bd664a342b"
      },
      "source": [
        "import gdown\n",
        "url = 'https://drive.google.com/file/d/1dTIWNpjlrnTQBIQtaGOh0jCRYZiAQO79/view?usp=sharing'\n",
        "path = 'https://drive.google.com/uc?export=download&id='+url.split('/')[-2]\n",
        "output = \"twitterData.csv\"\n",
        "gdown.download(path, output, quiet=True)\n",
        "twitterData = pd.read_csv(\"/content/twitterData.csv\")\n",
        "df = pd.DataFrame(data=twitterData)\n",
        "df.head(5)"
      ],
      "execution_count": 2,
      "outputs": [
        {
          "output_type": "execute_result",
          "data": {
            "text/html": [
              "<div>\n",
              "<style scoped>\n",
              "    .dataframe tbody tr th:only-of-type {\n",
              "        vertical-align: middle;\n",
              "    }\n",
              "\n",
              "    .dataframe tbody tr th {\n",
              "        vertical-align: top;\n",
              "    }\n",
              "\n",
              "    .dataframe thead th {\n",
              "        text-align: right;\n",
              "    }\n",
              "</style>\n",
              "<table border=\"1\" class=\"dataframe\">\n",
              "  <thead>\n",
              "    <tr style=\"text-align: right;\">\n",
              "      <th></th>\n",
              "      <th>Unnamed: 0</th>\n",
              "      <th>target</th>\n",
              "      <th>id</th>\n",
              "      <th>date</th>\n",
              "      <th>flag</th>\n",
              "      <th>user</th>\n",
              "      <th>text</th>\n",
              "    </tr>\n",
              "  </thead>\n",
              "  <tbody>\n",
              "    <tr>\n",
              "      <th>0</th>\n",
              "      <td>680949</td>\n",
              "      <td>0</td>\n",
              "      <td>2249621587</td>\n",
              "      <td>Fri Jun 19 22:41:08 PDT 2009</td>\n",
              "      <td>NO_QUERY</td>\n",
              "      <td>sukumarpant</td>\n",
              "      <td>#brokenpromises...</td>\n",
              "    </tr>\n",
              "    <tr>\n",
              "      <th>1</th>\n",
              "      <td>406741</td>\n",
              "      <td>0</td>\n",
              "      <td>2059003515</td>\n",
              "      <td>Sat Jun 06 16:03:21 PDT 2009</td>\n",
              "      <td>NO_QUERY</td>\n",
              "      <td>MTMSparrow</td>\n",
              "      <td>David Carradine  so sad. Thai's law not sure i...</td>\n",
              "    </tr>\n",
              "    <tr>\n",
              "      <th>2</th>\n",
              "      <td>1337108</td>\n",
              "      <td>4</td>\n",
              "      <td>2017466467</td>\n",
              "      <td>Wed Jun 03 08:26:14 PDT 2009</td>\n",
              "      <td>NO_QUERY</td>\n",
              "      <td>itsmemcee</td>\n",
              "      <td>A @ 415 B @ 425. Tell your bro i say congrats!</td>\n",
              "    </tr>\n",
              "    <tr>\n",
              "      <th>3</th>\n",
              "      <td>1560887</td>\n",
              "      <td>4</td>\n",
              "      <td>2186457254</td>\n",
              "      <td>Mon Jun 15 18:52:04 PDT 2009</td>\n",
              "      <td>NO_QUERY</td>\n",
              "      <td>jdfreivald</td>\n",
              "      <td>@littlefluffycat  Indeed.</td>\n",
              "    </tr>\n",
              "    <tr>\n",
              "      <th>4</th>\n",
              "      <td>1466295</td>\n",
              "      <td>4</td>\n",
              "      <td>2064458395</td>\n",
              "      <td>Sun Jun 07 06:19:20 PDT 2009</td>\n",
              "      <td>NO_QUERY</td>\n",
              "      <td>CrazyHan</td>\n",
              "      <td>Completed Race 4 Life in 58mins with girlies f...</td>\n",
              "    </tr>\n",
              "  </tbody>\n",
              "</table>\n",
              "</div>"
            ],
            "text/plain": [
              "   Unnamed: 0  ...                                               text\n",
              "0      680949  ...                                #brokenpromises... \n",
              "1      406741  ...  David Carradine  so sad. Thai's law not sure i...\n",
              "2     1337108  ...    A @ 415 B @ 425. Tell your bro i say congrats! \n",
              "3     1560887  ...                          @littlefluffycat  Indeed.\n",
              "4     1466295  ...  Completed Race 4 Life in 58mins with girlies f...\n",
              "\n",
              "[5 rows x 7 columns]"
            ]
          },
          "metadata": {
            "tags": []
          },
          "execution_count": 2
        }
      ]
    },
    {
      "cell_type": "code",
      "metadata": {
        "id": "VW3KZMvzSUJm"
      },
      "source": [
        "df['target'].replace({4: 1}, inplace = True)\n",
        "X = df['text']\n",
        "y = df['target']"
      ],
      "execution_count": 3,
      "outputs": []
    },
    {
      "cell_type": "markdown",
      "metadata": {
        "id": "t0Zrsit-SUJm"
      },
      "source": [
        "## Data pre-processing"
      ]
    },
    {
      "cell_type": "markdown",
      "metadata": {
        "id": "pKM0_pS5SUJm"
      },
      "source": [
        "### Removing the scpecial characters"
      ]
    },
    {
      "cell_type": "code",
      "metadata": {
        "id": "nzcEiq8tSUJm"
      },
      "source": [
        "import re\n",
        "\n",
        "def RemoveSpecialCharacters(x):\n",
        "    x = re.sub(r'[^\\w]+', \" \", x)\n",
        "    return x"
      ],
      "execution_count": 4,
      "outputs": []
    },
    {
      "cell_type": "code",
      "metadata": {
        "id": "gzJ4Kd61SUJm"
      },
      "source": [
        "X = X.apply(lambda x: RemoveSpecialCharacters(x) )"
      ],
      "execution_count": 5,
      "outputs": []
    },
    {
      "cell_type": "markdown",
      "metadata": {
        "id": "5P15gBnWSUJm"
      },
      "source": [
        "### Lemmatize"
      ]
    },
    {
      "cell_type": "code",
      "metadata": {
        "colab": {
          "base_uri": "https://localhost:8080/"
        },
        "id": "zk9vMwm0SUJm",
        "outputId": "a810a2f5-7a75-4192-a97d-241103bfb168"
      },
      "source": [
        "import nltk\n",
        "nltk.download('wordnet')\n",
        "from nltk.stem import WordNetLemmatizer\n",
        "\n",
        "X = X.apply(lambda x: WordNetLemmatizer().lemmatize(x))"
      ],
      "execution_count": 6,
      "outputs": [
        {
          "output_type": "stream",
          "text": [
            "[nltk_data] Downloading package wordnet to /root/nltk_data...\n",
            "[nltk_data]   Unzipping corpora/wordnet.zip.\n"
          ],
          "name": "stdout"
        }
      ]
    },
    {
      "cell_type": "code",
      "metadata": {
        "id": "EOLYmC4BSUJm"
      },
      "source": [
        "X = X.apply(lambda x: x.lower())"
      ],
      "execution_count": 7,
      "outputs": []
    },
    {
      "cell_type": "markdown",
      "metadata": {
        "id": "vTzW08GKSUJm"
      },
      "source": [
        "### Removing the upercase"
      ]
    },
    {
      "cell_type": "code",
      "metadata": {
        "id": "DrBPOkWcSUJm"
      },
      "source": [
        "X = X.apply(lambda x: x.lower())"
      ],
      "execution_count": 8,
      "outputs": []
    },
    {
      "cell_type": "markdown",
      "metadata": {
        "id": "jnmaBb9USUJm"
      },
      "source": [
        "## Vectorizing"
      ]
    },
    {
      "cell_type": "code",
      "metadata": {
        "id": "zBGMDV1DSUJm"
      },
      "source": [
        "def vectorizeData(X_train,X_test,X_val,vectorizer):\n",
        "    X_train = vectorizer.fit_transform(X_train)\n",
        "    X_test = vectorizer.transform(X_test)\n",
        "    X_val = vectorizer.transform(X_val)\n",
        "    \n",
        "    return X_train,X_test,X_val"
      ],
      "execution_count": 9,
      "outputs": []
    },
    {
      "cell_type": "code",
      "metadata": {
        "id": "_RJhsOYBSUJm"
      },
      "source": [
        "from sklearn.model_selection import train_test_split\n",
        "\n",
        "train_X, test_X, train_y, test_y = train_test_split(X, y, test_size=0.3,   random_state = 4, stratify = y)"
      ],
      "execution_count": 10,
      "outputs": []
    },
    {
      "cell_type": "code",
      "metadata": {
        "id": "kT9N8qcnSUJm"
      },
      "source": [
        "from sklearn.feature_extraction.text import CountVectorizer\n",
        "import numpy as np\n",
        "\n",
        "split_int = int(len(train_X)*0.8)\n",
        "\n",
        "train_X, val_X = train_X[:split_int], train_X[split_int:]\n",
        "train_y, val_y = train_y[:split_int], train_y[split_int:]\n",
        "\n",
        "cv = CountVectorizer(max_features=500)\n",
        "X_train, X_test, X_val =  vectorizeData(train_X, test_X, val_X, cv)\n",
        "\n",
        "X_train = X_train.toarray()\n",
        "y_train = train_y.values\n",
        "\n",
        "X_val = X_val.toarray()\n",
        "y_val = val_y.values\n",
        "\n",
        "X_test = X_test.toarray()\n",
        "y_test = test_y.values\n"
      ],
      "execution_count": 11,
      "outputs": []
    },
    {
      "cell_type": "markdown",
      "metadata": {
        "id": "F9sqYkzgSUJm"
      },
      "source": [
        "## Batching sentences together with a DataLoader"
      ]
    },
    {
      "cell_type": "code",
      "metadata": {
        "id": "MugWDpHxSUJm"
      },
      "source": [
        "import torch\n",
        "import torch.nn as nn\n",
        "from torch.utils.data import TensorDataset, DataLoader\n",
        "\n",
        "# tensor datasets\n",
        "train_data = TensorDataset(torch.from_numpy(X_train), torch.from_numpy(y_train))\n",
        "valid_data = TensorDataset(torch.from_numpy(X_val), torch.from_numpy(y_val))\n",
        "test_data = TensorDataset(torch.from_numpy(X_test), torch.from_numpy(y_test))\n",
        "\n",
        "# bach size\n",
        "batch_size = 100\n",
        "\n",
        "# dataloader\n",
        "train_loader = DataLoader(train_data, shuffle=True, batch_size=batch_size)\n",
        "valid_loader = DataLoader(valid_data, shuffle=True, batch_size=batch_size)\n",
        "\n",
        "test_loader = DataLoader(test_data, shuffle=True, batch_size=batch_size)"
      ],
      "execution_count": 12,
      "outputs": []
    },
    {
      "cell_type": "markdown",
      "metadata": {
        "id": "jzGmJL_PSUJm"
      },
      "source": [
        "## Architecture of NN"
      ]
    },
    {
      "cell_type": "code",
      "metadata": {
        "id": "54r961vkSUJm"
      },
      "source": [
        "class Model_1(nn.Module):\n",
        "    def __init__(self,input_size,num_classes = 1,hidden_size1 = 500,hidden_size2 = 100):\n",
        "        super(Model_1, self).__init__()\n",
        "     \n",
        "        self.fc1 = nn.Linear(input_size,hidden_size1)\n",
        "        self.relu1 = nn.ReLU()\n",
        "        self.fc2 = nn.Linear(hidden_size1,hidden_size2)\n",
        "        self.relu2 = nn.ReLU()\n",
        "        self.fc3 = nn.Linear(hidden_size2,num_classes)\n",
        "        self.sigmoid = nn.Sigmoid()\n",
        "\n",
        "    def forward(self,x):\n",
        "        out = self.fc1(x)\n",
        "        out = self.relu1(out)\n",
        "        out = self.fc2(out)\n",
        "        out = self.relu2(out)\n",
        "        out = self.fc3(out)\n",
        "        out = self.sigmoid(out)\n",
        "        return out"
      ],
      "execution_count": 13,
      "outputs": []
    },
    {
      "cell_type": "code",
      "metadata": {
        "id": "UP2XqfdmSUJm"
      },
      "source": [
        "def train(model,X,y,optimizer,loss_fn):\n",
        "\n",
        "    # step 1. Zero the gradients\n",
        "        optimizer.zero_grad()\n",
        "    # step 2. Compute the output\n",
        "        y_pred = model(X)\n",
        "    # step 3. Compute the loss\n",
        "        loss = loss_fn(y_pred.squeeze(), y)\n",
        "    # step 4. use loss to produce gradients\n",
        "        loss.backward()\n",
        "    # step 5. use optimizer to take gradient step\n",
        "        optimizer.step()\n",
        "    \n",
        "        return loss.item()"
      ],
      "execution_count": 14,
      "outputs": []
    },
    {
      "cell_type": "code",
      "metadata": {
        "id": "_IePE6WPRvPL"
      },
      "source": [
        "def validate(classifier,X,y,loss_fn):\n",
        "  y_pred =  classifier(X)\n",
        "  loss = loss_fn(y_pred.squeeze(), y)\n",
        "\n",
        "  return loss.item()\n"
      ],
      "execution_count": 15,
      "outputs": []
    },
    {
      "cell_type": "code",
      "metadata": {
        "id": "Mw4BimL-SUJm"
      },
      "source": [
        "def predict(model,X):\n",
        "    outputs = model(X)\n",
        "    return torch.round(outputs)   # sigmoid results are between [0,1], we round for prediction. e.x. 0.45 -> 0"
      ],
      "execution_count": 16,
      "outputs": []
    },
    {
      "cell_type": "markdown",
      "metadata": {
        "id": "jdUmgwnVgk7F"
      },
      "source": [
        "### Function for plotting loss vs epochs"
      ]
    },
    {
      "cell_type": "code",
      "metadata": {
        "id": "ntrRESB_VpGk"
      },
      "source": [
        "import matplotlib.pyplot as plt\n",
        "\n",
        "def plot_losses(list_of_losses,valid_losses,title):\n",
        "    plt.figure(figsize=(8,5))\n",
        "\n",
        "    plt.plot(valid_losses,'o-',color=\"r\")\n",
        "\n",
        "    plt.plot(list_of_losses,'o-',color=\"g\")\n",
        "\n",
        "    plt.grid()\n",
        "\n",
        "    plt.plot(valid_losses, 'o-', color=\"r\",\n",
        "                    label=\"Validation loss\")\n",
        "    plt.plot(list_of_losses,  'o-', color=\"g\",\n",
        "                    label=\"Training loss\")\n",
        "\n",
        "    plt.legend(loc=\"best\")\n",
        "\n",
        "    plt.xlabel(\"epochs\")\n",
        "    plt.ylabel(\"losses\")\n",
        "    plt.title(title)\n",
        "\n",
        "    plt.show()"
      ],
      "execution_count": 17,
      "outputs": []
    },
    {
      "cell_type": "markdown",
      "metadata": {
        "id": "p82ZWrXGgWo6"
      },
      "source": [
        "### train and model and then check its behavior with validation set\n"
      ]
    },
    {
      "cell_type": "code",
      "metadata": {
        "id": "8IRlQkwESUJn"
      },
      "source": [
        "def training(net,train_loader,valid_loader,optimizer, loss_function,num_epochs = 5):\n",
        "\n",
        "  list_of_losses = []\n",
        "  valid_losses = []\n",
        "\n",
        "  for epoch in range(num_epochs):\n",
        "      running_loss = 0.0\n",
        "      net.train()\n",
        "      for batch_index, batch in (enumerate(train_loader)):\n",
        "          x_train, y_train = batch[0], batch[1]\n",
        "          x_train = x_train.float()\n",
        "          y_train = y_train.float()\n",
        "          \n",
        "          loss_t = train(net,x_train,y_train,optimizer,loss_function)       \n",
        "          running_loss += (loss_t - running_loss) / (batch_index + 1)\n",
        "                \n",
        "      list_of_losses.append(running_loss)\n",
        "\n",
        "      running_loss = 0.0\n",
        "      net.train()\n",
        "      for batch_index, batch in (enumerate(valid_loader)):\n",
        "          x_train, y_train = batch[0], batch[1]\n",
        "          x_train = x_train.float()\n",
        "          y_train = y_train.float()\n",
        "          \n",
        "          loss_t = validate(net,x_train,y_train,loss_function)       \n",
        "          running_loss += (loss_t - running_loss) / (batch_index + 1)\n",
        "      valid_losses.append(running_loss)\n",
        "       \n",
        "  return list_of_losses,valid_losses"
      ],
      "execution_count": 18,
      "outputs": []
    },
    {
      "cell_type": "code",
      "metadata": {
        "id": "RSq0OlyjSUJn"
      },
      "source": [
        "from sklearn.metrics import accuracy_score, f1_score,recall_score,precision_score\n",
        "\n",
        "def testing(net,test_loader):\n",
        "  accuracy = []\n",
        "  f1 = []\n",
        "  recall = []\n",
        "  precision = []\n",
        "\n",
        "  for bidx, batch in (enumerate(test_loader)):\n",
        "      x_test, y_test = batch[0], batch[1]\n",
        "      x_test = x_test.float()\n",
        "      y_test = y_test.float()\n",
        "      y_test = y_test.numpy()\n",
        "      y_pred = predict(net,x_test)\n",
        "      y_pred = y_pred.detach().numpy()\n",
        "      \n",
        "      acc = accuracy_score(y_test, y_pred)\n",
        "      f1_sc = f1_score(y_test, y_pred, average='macro')\n",
        "      rec = recall_score(y_test, y_pred, average='macro')\n",
        "      prec = precision_score(y_test, y_pred, average='macro')\n",
        "      \n",
        "      accuracy.append(acc)\n",
        "      f1.append(f1_sc)\n",
        "      recall.append(rec)\n",
        "      precision.append(prec)\n",
        "\n",
        "  return np.mean(accuracy),np.mean(f1),np.mean(recall),np.mean(precision)\n",
        "    "
      ],
      "execution_count": 38,
      "outputs": []
    },
    {
      "cell_type": "markdown",
      "metadata": {
        "id": "i97djlJBSUJn"
      },
      "source": [
        "# Training\n",
        "\n"
      ]
    },
    {
      "cell_type": "code",
      "metadata": {
        "id": "6QH7liSIQTHn"
      },
      "source": [
        "df = pd.DataFrame(columns=[['Optimizer','Loss Function','Accuracy','F1-score','Recall-score','Precision']])"
      ],
      "execution_count": 44,
      "outputs": []
    },
    {
      "cell_type": "markdown",
      "metadata": {
        "id": "PrGoMlmDFIlk"
      },
      "source": [
        "## **Optimizer**: Adam, **Loss Function**: MSELoss"
      ]
    },
    {
      "cell_type": "code",
      "metadata": {
        "id": "uilryx-1RYYd"
      },
      "source": [
        "learning_rate = 0.0001\n",
        "net = Model_1(len(X_train[0])) \n",
        "op = torch.optim.Adam(net.parameters(), lr=learning_rate)\n",
        "lf = nn.MSELoss()\n",
        "list_of_losses,valid_losses = training(net,train_loader,valid_loader,op, lf)"
      ],
      "execution_count": 45,
      "outputs": []
    },
    {
      "cell_type": "markdown",
      "metadata": {
        "id": "-RsFn-nzE8u7"
      },
      "source": [
        "## Check for Overfitting-Underfitting"
      ]
    },
    {
      "cell_type": "code",
      "metadata": {
        "id": "fc-ZdbiPFPoI",
        "outputId": "48da7db9-0835-45b6-ceaf-39e8c6a9f1f9",
        "colab": {
          "base_uri": "https://localhost:8080/",
          "height": 350
        }
      },
      "source": [
        "title=(\"Adam - MSE\")\n",
        "plot_losses(list_of_losses,valid_losses,title)"
      ],
      "execution_count": 46,
      "outputs": [
        {
          "output_type": "display_data",
          "data": {
            "image/png": "[encoded data removed]",
            "text/plain": [
              "<Figure size 576x360 with 1 Axes>"
            ]
          },
          "metadata": {
            "tags": [],
            "needs_background": "light"
          }
        }
      ]
    },
    {
      "cell_type": "markdown",
      "metadata": {
        "id": "GJGBVWvUFWm2"
      },
      "source": [
        "## Test and save scores"
      ]
    },
    {
      "cell_type": "code",
      "metadata": {
        "id": "bYD7-DuFFW5h"
      },
      "source": [
        "acc, f1,recall,precision = testing(net,test_loader)\n",
        "df.loc[len(df)] = [\"Adam\",\"MSE\",acc,f1,recall,precision]"
      ],
      "execution_count": 47,
      "outputs": []
    },
    {
      "cell_type": "markdown",
      "metadata": {
        "id": "kmp0aP-LF3H4"
      },
      "source": [
        "## **Optimizer**: SGD, **Loss Function**: MSELoss"
      ]
    },
    {
      "cell_type": "code",
      "metadata": {
        "id": "Pm1Gz9ErF1uT"
      },
      "source": [
        "learning_rate = 0.0001\n",
        "net = Model_1(len(X_train[0])) \n",
        "op = torch.optim.SGD(net.parameters(), lr=learning_rate)\n",
        "lf = nn.MSELoss()\n",
        "list_of_losses,valid_losses = training(net,train_loader,valid_loader,op, lf)"
      ],
      "execution_count": 48,
      "outputs": []
    },
    {
      "cell_type": "markdown",
      "metadata": {
        "id": "Km--G6OvGMq5"
      },
      "source": [
        "## Check for Overfitting-Underfitting"
      ]
    },
    {
      "cell_type": "code",
      "metadata": {
        "id": "B5iiJ7uRGLxA",
        "outputId": "a5fdab2b-d53d-4c8c-c076-417a2ba70eb3",
        "colab": {
          "base_uri": "https://localhost:8080/",
          "height": 350
        }
      },
      "source": [
        "title=(\"SGD - MSE\")\n",
        "plot_losses(list_of_losses,valid_losses,title)"
      ],
      "execution_count": 49,
      "outputs": [
        {
          "output_type": "display_data",
          "data": {
            "image/png": "[encoded data removed]",
            "text/plain": [
              "<Figure size 576x360 with 1 Axes>"
            ]
          },
          "metadata": {
            "tags": [],
            "needs_background": "light"
          }
        }
      ]
    },
    {
      "cell_type": "markdown",
      "metadata": {
        "id": "sK1qW7nVGhda"
      },
      "source": [
        "## Test and save scores"
      ]
    },
    {
      "cell_type": "code",
      "metadata": {
        "id": "aE06o9yFGiPt",
        "outputId": "1ad4fccf-4784-4090-ebea-a1bfcab47ac8",
        "colab": {
          "base_uri": "https://localhost:8080/"
        }
      },
      "source": [
        "acc, f1,recall,precision = testing(net,test_loader)\n",
        "df.loc[len(df)] = [\"SGD\",\"MSE\",acc,f1,recall,precision]"
      ],
      "execution_count": 50,
      "outputs": [
        {
          "output_type": "stream",
          "text": [
            "/usr/local/lib/python3.6/dist-packages/sklearn/metrics/_classification.py:1272: UndefinedMetricWarning: Precision is ill-defined and being set to 0.0 in labels with no predicted samples. Use `zero_division` parameter to control this behavior.\n",
            "  _warn_prf(average, modifier, msg_start, len(result))\n"
          ],
          "name": "stderr"
        }
      ]
    },
    {
      "cell_type": "markdown",
      "metadata": {
        "id": "7MfAZC5NJ4x3"
      },
      "source": [
        "## **Optimizer**: RMS, **Loss Function**: MSELoss"
      ]
    },
    {
      "cell_type": "code",
      "metadata": {
        "id": "NMqJQXHtJ5QB"
      },
      "source": [
        "learning_rate = 0.0001\n",
        "net = Model_1(len(X_train[0])) \n",
        "op = torch.optim.RMSprop(net.parameters(), lr=learning_rate)\n",
        "lf = nn.MSELoss()\n",
        "list_of_losses,valid_losses = training(net,train_loader,valid_loader,op, lf)"
      ],
      "execution_count": 51,
      "outputs": []
    },
    {
      "cell_type": "markdown",
      "metadata": {
        "id": "2N1D2K92KNEt"
      },
      "source": [
        "## Check for Overfitting-Underfitting"
      ]
    },
    {
      "cell_type": "code",
      "metadata": {
        "id": "pD44mkobKNWA",
        "outputId": "ec8e42bd-486c-433d-8f15-642d7cf0e4f4",
        "colab": {
          "base_uri": "https://localhost:8080/",
          "height": 350
        }
      },
      "source": [
        "title=(\"RMS - MSE\")\n",
        "plot_losses(list_of_losses,valid_losses,title)"
      ],
      "execution_count": 52,
      "outputs": [
        {
          "output_type": "display_data",
          "data": {
            "image/png": "[encoded data removed]",
            "text/plain": [
              "<Figure size 576x360 with 1 Axes>"
            ]
          },
          "metadata": {
            "tags": [],
            "needs_background": "light"
          }
        }
      ]
    },
    {
      "cell_type": "markdown",
      "metadata": {
        "id": "OfQNXjBEKvpH"
      },
      "source": [
        "## Test and save scores"
      ]
    },
    {
      "cell_type": "code",
      "metadata": {
        "id": "za8kZHpqK0M9"
      },
      "source": [
        "acc, f1,recall,precision = testing(net,test_loader)\n",
        "df.loc[len(df)] = [\"RMS\",\"MSE\",acc,f1,recall,precision]"
      ],
      "execution_count": 53,
      "outputs": []
    },
    {
      "cell_type": "markdown",
      "metadata": {
        "id": "U4MoXhvjLWYT"
      },
      "source": [
        "## **Optimizer**: Adam, **Loss Function**: BCELoss"
      ]
    },
    {
      "cell_type": "code",
      "metadata": {
        "id": "xVt8_Gg9LW-4"
      },
      "source": [
        "learning_rate = 0.0001\n",
        "net = Model_1(len(X_train[0])) \n",
        "op = torch.optim.Adam(net.parameters(), lr=learning_rate)\n",
        "lf = nn.BCELoss()\n",
        "list_of_losses,valid_losses = training(net,train_loader,valid_loader,op, lf)"
      ],
      "execution_count": 54,
      "outputs": []
    },
    {
      "cell_type": "markdown",
      "metadata": {
        "id": "swQ9WsEyLxSg"
      },
      "source": [
        "## Check for Overfitting-Underfitting"
      ]
    },
    {
      "cell_type": "code",
      "metadata": {
        "id": "VXTunuwFLxu4",
        "outputId": "f960bf93-45b7-4297-d603-7249ed01ad4d",
        "colab": {
          "base_uri": "https://localhost:8080/",
          "height": 350
        }
      },
      "source": [
        "title=(\"Adam - BCE\")\n",
        "plot_losses(list_of_losses,valid_losses,title)"
      ],
      "execution_count": 55,
      "outputs": [
        {
          "output_type": "display_data",
          "data": {
            "image/png": "[encoded data removed]",
            "text/plain": [
              "<Figure size 576x360 with 1 Axes>"
            ]
          },
          "metadata": {
            "tags": [],
            "needs_background": "light"
          }
        }
      ]
    },
    {
      "cell_type": "markdown",
      "metadata": {
        "id": "TpQu-msTMAyZ"
      },
      "source": [
        "## Test and save scores\n"
      ]
    },
    {
      "cell_type": "code",
      "metadata": {
        "id": "fxdQmdXUMBLq"
      },
      "source": [
        "acc, f1,recall,precision = testing(net,test_loader)\n",
        "df.loc[len(df)] = [\"Adam\",\"BCE\",acc,f1,recall,precision]"
      ],
      "execution_count": 56,
      "outputs": []
    },
    {
      "cell_type": "markdown",
      "metadata": {
        "id": "_ZijNggoQege"
      },
      "source": [
        "## **Optimizer**: SGD, **Loss Function**: BCELoss"
      ]
    },
    {
      "cell_type": "code",
      "metadata": {
        "id": "R_RO4qcaQe2t"
      },
      "source": [
        "learning_rate = 0.0001\n",
        "net = Model_1(len(X_train[0])) \n",
        "op = torch.optim.SGD(net.parameters(), lr=learning_rate)\n",
        "lf = nn.BCELoss()\n",
        "list_of_losses,valid_losses = training(net,train_loader,valid_loader,op, lf)"
      ],
      "execution_count": 57,
      "outputs": []
    },
    {
      "cell_type": "markdown",
      "metadata": {
        "id": "66cI2NXiQpd7"
      },
      "source": [
        "## Check for Overfitting-Underfitting"
      ]
    },
    {
      "cell_type": "code",
      "metadata": {
        "colab": {
          "base_uri": "https://localhost:8080/",
          "height": 350
        },
        "id": "K2TSdSCmQptx",
        "outputId": "0ffbdf31-b059-4a2a-d23b-6c96a3eb07c1"
      },
      "source": [
        "title=(\"SGD - BCE\")\n",
        "plot_losses(list_of_losses,valid_losses,title)"
      ],
      "execution_count": 58,
      "outputs": [
        {
          "output_type": "display_data",
          "data": {
            "image/png": "[encoded data removed]",
            "text/plain": [
              "<Figure size 576x360 with 1 Axes>"
            ]
          },
          "metadata": {
            "tags": [],
            "needs_background": "light"
          }
        }
      ]
    },
    {
      "cell_type": "markdown",
      "metadata": {
        "id": "1VAUmDipQqAm"
      },
      "source": [
        "## Test and save scores"
      ]
    },
    {
      "cell_type": "code",
      "metadata": {
        "colab": {
          "base_uri": "https://localhost:8080/"
        },
        "id": "Ss4KbyckQq6G",
        "outputId": "8341fc00-cde4-4fc7-e59f-ce2367b9732e"
      },
      "source": [
        "acc, f1,recall,precision = testing(net,test_loader)\n",
        "df.loc[len(df)] = [\"SGD\",\"BCE\",acc,f1,recall,precision]"
      ],
      "execution_count": 59,
      "outputs": [
        {
          "output_type": "stream",
          "text": [
            "/usr/local/lib/python3.6/dist-packages/sklearn/metrics/_classification.py:1272: UndefinedMetricWarning: Precision is ill-defined and being set to 0.0 in labels with no predicted samples. Use `zero_division` parameter to control this behavior.\n",
            "  _warn_prf(average, modifier, msg_start, len(result))\n"
          ],
          "name": "stderr"
        }
      ]
    },
    {
      "cell_type": "markdown",
      "metadata": {
        "id": "9P3WTUoYRiuW"
      },
      "source": [
        "## **Optimizer**: RMS, **Loss Function**: BCELoss"
      ]
    },
    {
      "cell_type": "code",
      "metadata": {
        "id": "5qp-PFXLRgkM"
      },
      "source": [
        "learning_rate = 0.0001\n",
        "net = Model_1(len(X_train[0])) \n",
        "op = torch.optim.RMSprop(net.parameters(), lr=learning_rate)\n",
        "lf = nn.BCELoss()\n",
        "list_of_losses,valid_losses = training(net,train_loader,valid_loader,op, lf)"
      ],
      "execution_count": 60,
      "outputs": []
    },
    {
      "cell_type": "markdown",
      "metadata": {
        "id": "3l-6BLllRkTX"
      },
      "source": [
        "## Check for Overfitting-Underfitting"
      ]
    },
    {
      "cell_type": "code",
      "metadata": {
        "id": "Lc90K4TCRgkN",
        "outputId": "c879a8b4-57b6-48a3-e82e-be4f4908d225",
        "colab": {
          "base_uri": "https://localhost:8080/",
          "height": 350
        }
      },
      "source": [
        "title=(\"RMS - BCE\")\n",
        "plot_losses(list_of_losses,valid_losses,title)"
      ],
      "execution_count": 61,
      "outputs": [
        {
          "output_type": "display_data",
          "data": {
            "image/png": "[encoded data removed]",
            "text/plain": [
              "<Figure size 576x360 with 1 Axes>"
            ]
          },
          "metadata": {
            "tags": [],
            "needs_background": "light"
          }
        }
      ]
    },
    {
      "cell_type": "markdown",
      "metadata": {
        "id": "V015hOVwRlFC"
      },
      "source": [
        "## Test and save scores"
      ]
    },
    {
      "cell_type": "code",
      "metadata": {
        "id": "6PP6KjslRgkN"
      },
      "source": [
        "acc, f1,recall,precision = testing(net,test_loader)\n",
        "df.loc[len(df)] = [\"RMS\",\"BCE\",acc,f1,recall,precision]"
      ],
      "execution_count": 62,
      "outputs": []
    },
    {
      "cell_type": "markdown",
      "metadata": {
        "id": "X4ZP5nSzXB6M"
      },
      "source": [
        "# **Scores**"
      ]
    },
    {
      "cell_type": "code",
      "metadata": {
        "id": "kBE7ZgWoXCI8",
        "outputId": "ba8b9804-3763-4268-de5a-53a7052604b2",
        "colab": {
          "base_uri": "https://localhost:8080/",
          "height": 233
        }
      },
      "source": [
        "df"
      ],
      "execution_count": 65,
      "outputs": [
        {
          "output_type": "execute_result",
          "data": {
            "text/html": [
              "<div>\n",
              "<style scoped>\n",
              "    .dataframe tbody tr th:only-of-type {\n",
              "        vertical-align: middle;\n",
              "    }\n",
              "\n",
              "    .dataframe tbody tr th {\n",
              "        vertical-align: top;\n",
              "    }\n",
              "\n",
              "    .dataframe thead tr th {\n",
              "        text-align: left;\n",
              "    }\n",
              "</style>\n",
              "<table border=\"1\" class=\"dataframe\">\n",
              "  <thead>\n",
              "    <tr>\n",
              "      <th></th>\n",
              "      <th>Optimizer</th>\n",
              "      <th>Loss Function</th>\n",
              "      <th>Accuracy</th>\n",
              "      <th>F1-score</th>\n",
              "      <th>Recall-score</th>\n",
              "      <th>Precision</th>\n",
              "    </tr>\n",
              "  </thead>\n",
              "  <tbody>\n",
              "    <tr>\n",
              "      <th>0</th>\n",
              "      <td>Adam</td>\n",
              "      <td>MSE</td>\n",
              "      <td>0.763786</td>\n",
              "      <td>0.761981</td>\n",
              "      <td>0.763787</td>\n",
              "      <td>0.764218</td>\n",
              "    </tr>\n",
              "    <tr>\n",
              "      <th>1</th>\n",
              "      <td>SGD</td>\n",
              "      <td>MSE</td>\n",
              "      <td>0.500570</td>\n",
              "      <td>0.333380</td>\n",
              "      <td>0.500094</td>\n",
              "      <td>0.265431</td>\n",
              "    </tr>\n",
              "    <tr>\n",
              "      <th>2</th>\n",
              "      <td>RMS</td>\n",
              "      <td>MSE</td>\n",
              "      <td>0.765078</td>\n",
              "      <td>0.763278</td>\n",
              "      <td>0.765062</td>\n",
              "      <td>0.765230</td>\n",
              "    </tr>\n",
              "    <tr>\n",
              "      <th>3</th>\n",
              "      <td>Adam</td>\n",
              "      <td>BCE</td>\n",
              "      <td>0.764760</td>\n",
              "      <td>0.762914</td>\n",
              "      <td>0.764800</td>\n",
              "      <td>0.764798</td>\n",
              "    </tr>\n",
              "    <tr>\n",
              "      <th>4</th>\n",
              "      <td>SGD</td>\n",
              "      <td>BCE</td>\n",
              "      <td>0.502242</td>\n",
              "      <td>0.348534</td>\n",
              "      <td>0.502732</td>\n",
              "      <td>0.482573</td>\n",
              "    </tr>\n",
              "    <tr>\n",
              "      <th>5</th>\n",
              "      <td>RMS</td>\n",
              "      <td>BCE</td>\n",
              "      <td>0.765956</td>\n",
              "      <td>0.764171</td>\n",
              "      <td>0.765889</td>\n",
              "      <td>0.766045</td>\n",
              "    </tr>\n",
              "  </tbody>\n",
              "</table>\n",
              "</div>"
            ],
            "text/plain": [
              "  Optimizer Loss Function  Accuracy  F1-score Recall-score Precision\n",
              "0      Adam           MSE  0.763786  0.761981     0.763787  0.764218\n",
              "1       SGD           MSE  0.500570  0.333380     0.500094  0.265431\n",
              "2       RMS           MSE  0.765078  0.763278     0.765062  0.765230\n",
              "3      Adam           BCE  0.764760  0.762914     0.764800  0.764798\n",
              "4       SGD           BCE  0.502242  0.348534     0.502732  0.482573\n",
              "5       RMS           BCE  0.765956  0.764171     0.765889  0.766045"
            ]
          },
          "metadata": {
            "tags": []
          },
          "execution_count": 65
        }
      ]
    },
    {
      "cell_type": "markdown",
      "metadata": {
        "id": "RSAM_xWmXsdp"
      },
      "source": [
        "# **Remarks** "
      ]
    },
    {
      "cell_type": "markdown",
      "metadata": {
        "id": "mYhkz_lfXt-H"
      },
      "source": [
        "\n",
        "\n",
        "*   For this neural network, we used an input layer with size of the features, a second layer with dimension 500 and a third, that takes an input with size 200 and has an output of 1, because of the binary classification.\n",
        "*   Next, we experiment with different kind of optimizers and loss functions.\n",
        "*   In the final scores we observe great results with both Adam and RMS. The loss functions, as expected, don't play a masive role on the results.\n",
        "*   Models with SGD have really low scores.\n",
        "*   The best scores, close to 76.5%, are received with RMS optimizer and BCE as loss function.\n"
      ]
    }
  ]
}