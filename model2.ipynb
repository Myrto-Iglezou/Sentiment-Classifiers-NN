{
 "cells": [
  {
   "cell_type": "markdown",
   "metadata": {},
   "source": [
    "## YΣ19 Artificial Intelligence II\n",
    "# Homework 2\n",
    "\n",
    "### Iglezou Myrto - 111520170038"
   ]
  },
  {
   "cell_type": "markdown",
   "metadata": {},
   "source": [
    "# Model 2"
   ]
  },
  {
   "cell_type": "code",
   "execution_count": 136,
   "metadata": {},
   "outputs": [],
   "source": [
    "import pandas as pd \n",
    "from pandas import DataFrame, read_csv"
   ]
  },
  {
   "cell_type": "code",
   "execution_count": 137,
   "metadata": {},
   "outputs": [
    {
     "data": {
      "text/html": [
       "<div>\n",
       "<style scoped>\n",
       "    .dataframe tbody tr th:only-of-type {\n",
       "        vertical-align: middle;\n",
       "    }\n",
       "\n",
       "    .dataframe tbody tr th {\n",
       "        vertical-align: top;\n",
       "    }\n",
       "\n",
       "    .dataframe thead th {\n",
       "        text-align: right;\n",
       "    }\n",
       "</style>\n",
       "<table border=\"1\" class=\"dataframe\">\n",
       "  <thead>\n",
       "    <tr style=\"text-align: right;\">\n",
       "      <th></th>\n",
       "      <th>Unnamed: 0</th>\n",
       "      <th>target</th>\n",
       "      <th>id</th>\n",
       "      <th>date</th>\n",
       "      <th>flag</th>\n",
       "      <th>user</th>\n",
       "      <th>text</th>\n",
       "    </tr>\n",
       "  </thead>\n",
       "  <tbody>\n",
       "    <tr>\n",
       "      <th>0</th>\n",
       "      <td>680949</td>\n",
       "      <td>0</td>\n",
       "      <td>2249621587</td>\n",
       "      <td>Fri Jun 19 22:41:08 PDT 2009</td>\n",
       "      <td>NO_QUERY</td>\n",
       "      <td>sukumarpant</td>\n",
       "      <td>#brokenpromises...</td>\n",
       "    </tr>\n",
       "    <tr>\n",
       "      <th>1</th>\n",
       "      <td>406741</td>\n",
       "      <td>0</td>\n",
       "      <td>2059003515</td>\n",
       "      <td>Sat Jun 06 16:03:21 PDT 2009</td>\n",
       "      <td>NO_QUERY</td>\n",
       "      <td>MTMSparrow</td>\n",
       "      <td>David Carradine  so sad. Thai's law not sure i...</td>\n",
       "    </tr>\n",
       "    <tr>\n",
       "      <th>2</th>\n",
       "      <td>1337108</td>\n",
       "      <td>4</td>\n",
       "      <td>2017466467</td>\n",
       "      <td>Wed Jun 03 08:26:14 PDT 2009</td>\n",
       "      <td>NO_QUERY</td>\n",
       "      <td>itsmemcee</td>\n",
       "      <td>A @ 415 B @ 425. Tell your bro i say congrats!</td>\n",
       "    </tr>\n",
       "    <tr>\n",
       "      <th>3</th>\n",
       "      <td>1560887</td>\n",
       "      <td>4</td>\n",
       "      <td>2186457254</td>\n",
       "      <td>Mon Jun 15 18:52:04 PDT 2009</td>\n",
       "      <td>NO_QUERY</td>\n",
       "      <td>jdfreivald</td>\n",
       "      <td>@littlefluffycat  Indeed.</td>\n",
       "    </tr>\n",
       "    <tr>\n",
       "      <th>4</th>\n",
       "      <td>1466295</td>\n",
       "      <td>4</td>\n",
       "      <td>2064458395</td>\n",
       "      <td>Sun Jun 07 06:19:20 PDT 2009</td>\n",
       "      <td>NO_QUERY</td>\n",
       "      <td>CrazyHan</td>\n",
       "      <td>Completed Race 4 Life in 58mins with girlies f...</td>\n",
       "    </tr>\n",
       "  </tbody>\n",
       "</table>\n",
       "</div>"
      ],
      "text/plain": [
       "   Unnamed: 0  target          id                          date      flag  \\\n",
       "0      680949       0  2249621587  Fri Jun 19 22:41:08 PDT 2009  NO_QUERY   \n",
       "1      406741       0  2059003515  Sat Jun 06 16:03:21 PDT 2009  NO_QUERY   \n",
       "2     1337108       4  2017466467  Wed Jun 03 08:26:14 PDT 2009  NO_QUERY   \n",
       "3     1560887       4  2186457254  Mon Jun 15 18:52:04 PDT 2009  NO_QUERY   \n",
       "4     1466295       4  2064458395  Sun Jun 07 06:19:20 PDT 2009  NO_QUERY   \n",
       "\n",
       "          user                                               text  \n",
       "0  sukumarpant                                #brokenpromises...   \n",
       "1   MTMSparrow  David Carradine  so sad. Thai's law not sure i...  \n",
       "2    itsmemcee    A @ 415 B @ 425. Tell your bro i say congrats!   \n",
       "3   jdfreivald                          @littlefluffycat  Indeed.  \n",
       "4     CrazyHan  Completed Race 4 Life in 58mins with girlies f...  "
      ]
     },
     "execution_count": 137,
     "metadata": {},
     "output_type": "execute_result"
    }
   ],
   "source": [
    "# import gdown\n",
    "# url = 'https://drive.google.com/file/d/1dTIWNpjlrnTQBIQtaGOh0jCRYZiAQO79/view?usp=sharing'\n",
    "# path = 'https://drive.google.com/uc?export=download&id='+url.split('/')[-2]\n",
    "# output = \"twitterData.csv\"\n",
    "# gdown.download(path, output, quiet=False)\n",
    "# twitterData = pd.read_csv(\"/content/twitterData.csv\")\n",
    "# df = pd.DataFrame(data=twitterData)\n",
    "# df.head(5)\n",
    "\n",
    "path = r\"C:\\Users\\myrto\\Documents\\GitHub\\AI2-project2\\SentimentTweets.csv\"\n",
    "file = pd.read_csv(path,index_col=False,nrows=50000)\n",
    "df = pd.DataFrame(data=file)\n",
    "df.head(5)"
   ]
  },
  {
   "cell_type": "code",
   "execution_count": 138,
   "metadata": {},
   "outputs": [],
   "source": [
    "df['target'].replace({4: 1}, inplace = True)\n",
    "X = df['text']\n",
    "y = df['target']"
   ]
  },
  {
   "cell_type": "markdown",
   "metadata": {},
   "source": [
    "## Data pre-processing"
   ]
  },
  {
   "cell_type": "markdown",
   "metadata": {},
   "source": [
    "### Removing the scpecial characters"
   ]
  },
  {
   "cell_type": "code",
   "execution_count": 139,
   "metadata": {},
   "outputs": [],
   "source": [
    "import re\n",
    "\n",
    "def RemoveSpecialCharacters(x):\n",
    "    x = re.sub(r'[^\\w]+', \" \", x)\n",
    "    return x"
   ]
  },
  {
   "cell_type": "code",
   "execution_count": 140,
   "metadata": {},
   "outputs": [],
   "source": [
    "X = X.apply(lambda x: RemoveSpecialCharacters(x) )"
   ]
  },
  {
   "cell_type": "markdown",
   "metadata": {},
   "source": [
    "### Lemmatize"
   ]
  },
  {
   "cell_type": "code",
   "execution_count": 141,
   "metadata": {},
   "outputs": [
    {
     "name": "stderr",
     "output_type": "stream",
     "text": [
      "[nltk_data] Downloading package wordnet to\n",
      "[nltk_data]     C:\\Users\\myrto\\AppData\\Roaming\\nltk_data...\n",
      "[nltk_data]   Package wordnet is already up-to-date!\n"
     ]
    }
   ],
   "source": [
    "import nltk\n",
    "nltk.download('wordnet')\n",
    "from nltk.stem import WordNetLemmatizer\n",
    "\n",
    "X = X.apply(lambda x: WordNetLemmatizer().lemmatize(x))"
   ]
  },
  {
   "cell_type": "code",
   "execution_count": 142,
   "metadata": {},
   "outputs": [],
   "source": [
    "X = X.apply(lambda x: x.lower())"
   ]
  },
  {
   "cell_type": "markdown",
   "metadata": {},
   "source": [
    "### Removing the upercase"
   ]
  },
  {
   "cell_type": "code",
   "execution_count": 143,
   "metadata": {},
   "outputs": [],
   "source": [
    "X = X.apply(lambda x: x.lower())"
   ]
  },
  {
   "cell_type": "markdown",
   "metadata": {},
   "source": [
    "## Padding"
   ]
  },
  {
   "cell_type": "code",
   "execution_count": 144,
   "metadata": {},
   "outputs": [],
   "source": [
    "def pad_sentence_for_window(sentence, max_row, pad_token=\"<pad>\"):\n",
    "    padding = max_row - len(sentence)\n",
    "    left = (int(padding/2) if padding%2 ==0 else int(padding/2 + 1) )\n",
    "    right = int(padding/2)\n",
    "    return [pad_token]*left + sentence + [pad_token]*right"
   ]
  },
  {
   "cell_type": "code",
   "execution_count": 145,
   "metadata": {},
   "outputs": [],
   "source": [
    "from collections import Counter\n",
    "\n",
    "rows = Counter([len(x) for x in X])\n",
    "max_row = max(rows)\n",
    "\n",
    "X = X.apply(lambda x: x.split())\n",
    "X = X.apply(lambda x: pad_sentence_for_window(x,max_row))"
   ]
  },
  {
   "cell_type": "code",
   "execution_count": 146,
   "metadata": {},
   "outputs": [],
   "source": [
    "X = X.apply(lambda x: ' '.join(x))"
   ]
  },
  {
   "cell_type": "markdown",
   "metadata": {},
   "source": [
    "## Vectorizing"
   ]
  },
  {
   "cell_type": "code",
   "execution_count": 147,
   "metadata": {},
   "outputs": [],
   "source": [
    "from sklearn.feature_extraction.text import CountVectorizer\n",
    "from sklearn.model_selection import StratifiedKFold\n",
    "import torch\n",
    "import torch.nn as nn\n",
    "import numpy as np\n",
    "from sklearn.metrics import accuracy_score\n",
    "from torch.utils.data import TensorDataset\n",
    "from sklearn.model_selection import train_test_split"
   ]
  },
  {
   "cell_type": "code",
   "execution_count": 148,
   "metadata": {},
   "outputs": [],
   "source": [
    "def vectorizeData(X_train,X_test,vectorizer):\n",
    "    X_train = vectorizer.fit_transform(X_train)\n",
    "    X_test = vectorizer.transform(X_test)\n",
    "    \n",
    "    return X_train,X_test"
   ]
  },
  {
   "cell_type": "code",
   "execution_count": 149,
   "metadata": {},
   "outputs": [],
   "source": [
    "train_X, test_X, train_y, test_y = train_test_split(X, y, test_size=0.3,   random_state = 4, stratify = y)"
   ]
  },
  {
   "cell_type": "code",
   "execution_count": 150,
   "metadata": {},
   "outputs": [],
   "source": [
    "cv = CountVectorizer()\n",
    "X_train, X_test =  vectorizeData(train_X, test_X,cv)"
   ]
  },
  {
   "cell_type": "code",
   "execution_count": 151,
   "metadata": {},
   "outputs": [],
   "source": [
    "y_train = torch.from_numpy(np.array(train_y)).type(torch.LongTensor)\n",
    "\n",
    "y_test = torch.from_numpy(np.array(test_y)).type(torch.LongTensor)"
   ]
  },
  {
   "cell_type": "code",
   "execution_count": 152,
   "metadata": {},
   "outputs": [],
   "source": [
    "# Transforms sparse matrix to tensor\n",
    "def matrix_to_tensor(X):\n",
    "    coo = X.tocoo()\n",
    "    values = coo.data\n",
    "    indices = np.vstack((coo.row, coo.col))\n",
    "    i = torch.LongTensor(indices)\n",
    "    v = torch.FloatTensor(values)\n",
    "    shape = coo.shape\n",
    "    return torch.sparse.FloatTensor(i, v, torch.Size(shape)).to_dense()"
   ]
  },
  {
   "cell_type": "code",
   "execution_count": 153,
   "metadata": {},
   "outputs": [],
   "source": [
    "train_X_tensor = matrix_to_tensor(X_train)\n",
    "\n",
    "test_X_tensor = matrix_to_tensor(X_test)"
   ]
  },
  {
   "cell_type": "code",
   "execution_count": 154,
   "metadata": {},
   "outputs": [
    {
     "data": {
      "text/plain": [
       "torch.Size([35000, 45635])"
      ]
     },
     "execution_count": 154,
     "metadata": {},
     "output_type": "execute_result"
    }
   ],
   "source": [
    "train_X_tensor.shape"
   ]
  },
  {
   "cell_type": "markdown",
   "metadata": {},
   "source": [
    "## Architecture of NN"
   ]
  },
  {
   "cell_type": "code",
   "execution_count": 155,
   "metadata": {},
   "outputs": [],
   "source": [
    "class Model_2(nn.Module):\n",
    "    def __init__(self,input_size,num_classes = 2,hidden_size1 = 500,hidden_size2 = 100):\n",
    "        super(Model_2, self).__init__()\n",
    "     \n",
    "        self.fc1 = nn.Linear(input_size,hidden_size1)\n",
    "        self.relu1 = nn.ReLU()\n",
    "        self.fc2 = nn.Linear(hidden_size1,hidden_size2)\n",
    "        self.relu2 = nn.ReLU()\n",
    "        self.fc3 = nn.Linear(hidden_size2,num_classes)\n",
    "        self.sigmoid = nn.Sigmoid()\n",
    "\n",
    "    def forward(self,x):\n",
    "        out = self.fc1(x)\n",
    "        out = self.relu1(out)\n",
    "        out = self.fc2(out)\n",
    "        out = self.relu2(out)\n",
    "        out = self.fc3(out)\n",
    "        out = self.sigmoid(out)\n",
    "        return out"
   ]
  },
  {
   "cell_type": "code",
   "execution_count": 156,
   "metadata": {},
   "outputs": [],
   "source": [
    "def train(model,X,y,optimizer,loss_fn=nn.CrossEntropyLoss(),n_epoches = 10,print_loss = True):\n",
    "    \n",
    "    if print_loss:\n",
    "        print(\"Loss:\\n\" )\n",
    "\n",
    "    for t in range(n_epoches):\n",
    "    # step 1. Zero the gradients\n",
    "        model.zero_grad()\n",
    "        optimizer.zero_grad()\n",
    "    # step 2. Compute the output\n",
    "        y_pred = model(X)\n",
    "    # step 3. Compute the loss\n",
    "        loss = loss_fn(y_pred, y)\n",
    "        if print_loss:\n",
    "            print(t, loss.item())\n",
    "    # step 4. use loss to produce gradients\n",
    "        loss.backward()\n",
    "    # step 5. use optimizer to take gradient step\n",
    "        optimizer.step()"
   ]
  },
  {
   "cell_type": "code",
   "execution_count": 157,
   "metadata": {},
   "outputs": [],
   "source": [
    "def predict(model,X):\n",
    "    outputs = model(X)\n",
    "    return torch.max(outputs, 1)[1]"
   ]
  },
  {
   "cell_type": "markdown",
   "metadata": {},
   "source": [
    "## Training and predict"
   ]
  },
  {
   "cell_type": "code",
   "execution_count": 158,
   "metadata": {},
   "outputs": [],
   "source": [
    "net = Model_2(train_X_tensor.shape[1])\n",
    "learning_rate = 0.001\n",
    "optimizer = torch.optim.Adam(net.parameters(), lr=learning_rate)"
   ]
  },
  {
   "cell_type": "code",
   "execution_count": 159,
   "metadata": {},
   "outputs": [
    {
     "name": "stdout",
     "output_type": "stream",
     "text": [
      "Loss:\n",
      "\n",
      "0 0.6932240128517151\n",
      "1 0.6961637735366821\n",
      "2 0.6921349167823792\n",
      "3 0.6920760869979858\n",
      "4 0.6925758123397827\n",
      "5 0.6918685436248779\n",
      "6 0.6911228895187378\n",
      "7 0.690364420413971\n",
      "8 0.6897668242454529\n",
      "9 0.6890678405761719\n",
      "10 0.6880661845207214\n",
      "11 0.6869208216667175\n",
      "12 0.6855653524398804\n",
      "13 0.6839935779571533\n",
      "14 0.6822574138641357\n",
      "15 0.6803016662597656\n",
      "16 0.678013265132904\n",
      "17 0.6754032969474792\n",
      "18 0.6724461913108826\n",
      "19 0.6690433025360107\n",
      "20 0.6651734709739685\n",
      "21 0.6608832478523254\n",
      "22 0.6560637354850769\n",
      "23 0.6507779359817505\n",
      "24 0.6449641585350037\n",
      "25 0.6386926174163818\n",
      "26 0.6319983601570129\n",
      "27 0.6248931884765625\n",
      "28 0.617529571056366\n",
      "29 0.6100225448608398\n",
      "30 0.6019507050514221\n",
      "31 0.5930136442184448\n",
      "32 0.5844398736953735\n",
      "33 0.5766664147377014\n",
      "34 0.5690391063690186\n",
      "35 0.5598843097686768\n",
      "36 0.5506070256233215\n",
      "37 0.543576180934906\n",
      "38 0.5364182591438293\n",
      "39 0.5271382927894592\n",
      "40 0.5193584561347961\n",
      "41 0.5135121941566467\n",
      "42 0.5061048269271851\n",
      "43 0.49787360429763794\n",
      "44 0.49189436435699463\n",
      "45 0.4866291284561157\n",
      "46 0.4796862304210663\n",
      "47 0.4728529453277588\n",
      "48 0.4680333435535431\n",
      "49 0.46339869499206543\n"
     ]
    }
   ],
   "source": [
    "train(net,train_X_tensor,y_train,optimizer,n_epoches=20)"
   ]
  },
  {
   "cell_type": "code",
   "execution_count": 160,
   "metadata": {},
   "outputs": [],
   "source": [
    "y_pred = predict(net,test_X_tensor)"
   ]
  },
  {
   "cell_type": "code",
   "execution_count": 161,
   "metadata": {},
   "outputs": [
    {
     "name": "stdout",
     "output_type": "stream",
     "text": [
      "              precision    recall  f1-score   support\n",
      "\n",
      "           0       0.71      0.79      0.75      7429\n",
      "           1       0.77      0.69      0.73      7571\n",
      "\n",
      "    accuracy                           0.74     15000\n",
      "   macro avg       0.74      0.74      0.74     15000\n",
      "weighted avg       0.74      0.74      0.74     15000\n",
      "\n"
     ]
    }
   ],
   "source": [
    "from sklearn.metrics import classification_report\n",
    "\n",
    "print(classification_report(y_test, y_pred))"
   ]
  }
 ],
 "metadata": {
  "kernelspec": {
   "display_name": "Python 3.6.8 64-bit ('opencv-env': conda)",
   "language": "python",
   "name": "python36864bitopencvenvcondad263f100daf4493e8e73d9bd1ee965a1"
  },
  "language_info": {
   "codemirror_mode": {
    "name": "ipython",
    "version": 3
   },
   "file_extension": ".py",
   "mimetype": "text/x-python",
   "name": "python",
   "nbconvert_exporter": "python",
   "pygments_lexer": "ipython3",
   "version": "3.6.8"
  }
 },
 "nbformat": 4,
 "nbformat_minor": 4
}
