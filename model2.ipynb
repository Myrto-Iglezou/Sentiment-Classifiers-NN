{
  "nbformat": 4,
  "nbformat_minor": 0,
  "metadata": {
    "kernelspec": {
      "display_name": "Python 3.6.8 64-bit ('opencv-env': conda)",
      "language": "python",
      "name": "python36864bitopencvenvcondad263f100daf4493e8e73d9bd1ee965a1"
    },
    "language_info": {
      "codemirror_mode": {
        "name": "ipython",
        "version": 3
      },
      "file_extension": ".py",
      "mimetype": "text/x-python",
      "name": "python",
      "nbconvert_exporter": "python",
      "pygments_lexer": "ipython3",
      "version": "3.6.8"
    },
    "colab": {
      "name": "model3.ipynb",
      "provenance": [],
      "include_colab_link": true
    }
  },
  "cells": [
    {
      "cell_type": "markdown",
      "metadata": {
        "id": "view-in-github",
        "colab_type": "text"
      },
      "source": [
        "<a href=\"https://colab.research.google.com/github/Myrto-Iglezou/AI2-project2/blob/master/model2.ipynb\" target=\"_parent\"><img src=\"https://colab.research.google.com/assets/colab-badge.svg\" alt=\"Open In Colab\"/></a>"
      ]
    },
    {
      "cell_type": "markdown",
      "metadata": {
        "id": "eOoUR08ESUJj"
      },
      "source": [
        "## YΣ19 Artificial Intelligence II\n",
        "# Homework 2\n",
        "\n",
        "### Iglezou Myrto - 111520170038"
      ]
    },
    {
      "cell_type": "markdown",
      "metadata": {
        "id": "FF6rJUV7SUJk"
      },
      "source": [
        "# Model 2"
      ]
    },
    {
      "cell_type": "code",
      "metadata": {
        "id": "vqFzJfkjSUJk"
      },
      "source": [
        "import pandas as pd \n",
        "from pandas import DataFrame, read_csv"
      ],
      "execution_count": 1,
      "outputs": []
    },
    {
      "cell_type": "code",
      "metadata": {
        "colab": {
          "base_uri": "https://localhost:8080/",
          "height": 202
        },
        "id": "wsFlMttISUJk",
        "outputId": "d7caf861-1ca2-4310-8f27-a17c81ce1bc9"
      },
      "source": [
        "import gdown\n",
        "url = 'https://drive.google.com/file/d/1dTIWNpjlrnTQBIQtaGOh0jCRYZiAQO79/view?usp=sharing'\n",
        "path = 'https://drive.google.com/uc?export=download&id='+url.split('/')[-2]\n",
        "output = \"twitterData.csv\"\n",
        "gdown.download(path, output, quiet=True)\n",
        "twitterData = pd.read_csv(\"/content/twitterData.csv\")\n",
        "df = pd.DataFrame(data=twitterData)\n",
        "df.head(5)\n",
        "\n",
        "# path = r\"C:\\Users\\myrto\\Documents\\GitHub\\AI2-project2\\SentimentTweets.csv\"\n",
        "# file = pd.read_csv(path,index_col=False)\n",
        "# # file = pd.read_csv(path,index_col=False,nrows=50000)\n",
        "# df = pd.DataFrame(data=file)\n",
        "# df.head(5)"
      ],
      "execution_count": 2,
      "outputs": [
        {
          "output_type": "execute_result",
          "data": {
            "text/html": [
              "<div>\n",
              "<style scoped>\n",
              "    .dataframe tbody tr th:only-of-type {\n",
              "        vertical-align: middle;\n",
              "    }\n",
              "\n",
              "    .dataframe tbody tr th {\n",
              "        vertical-align: top;\n",
              "    }\n",
              "\n",
              "    .dataframe thead th {\n",
              "        text-align: right;\n",
              "    }\n",
              "</style>\n",
              "<table border=\"1\" class=\"dataframe\">\n",
              "  <thead>\n",
              "    <tr style=\"text-align: right;\">\n",
              "      <th></th>\n",
              "      <th>Unnamed: 0</th>\n",
              "      <th>target</th>\n",
              "      <th>id</th>\n",
              "      <th>date</th>\n",
              "      <th>flag</th>\n",
              "      <th>user</th>\n",
              "      <th>text</th>\n",
              "    </tr>\n",
              "  </thead>\n",
              "  <tbody>\n",
              "    <tr>\n",
              "      <th>0</th>\n",
              "      <td>680949</td>\n",
              "      <td>0</td>\n",
              "      <td>2249621587</td>\n",
              "      <td>Fri Jun 19 22:41:08 PDT 2009</td>\n",
              "      <td>NO_QUERY</td>\n",
              "      <td>sukumarpant</td>\n",
              "      <td>#brokenpromises...</td>\n",
              "    </tr>\n",
              "    <tr>\n",
              "      <th>1</th>\n",
              "      <td>406741</td>\n",
              "      <td>0</td>\n",
              "      <td>2059003515</td>\n",
              "      <td>Sat Jun 06 16:03:21 PDT 2009</td>\n",
              "      <td>NO_QUERY</td>\n",
              "      <td>MTMSparrow</td>\n",
              "      <td>David Carradine  so sad. Thai's law not sure i...</td>\n",
              "    </tr>\n",
              "    <tr>\n",
              "      <th>2</th>\n",
              "      <td>1337108</td>\n",
              "      <td>4</td>\n",
              "      <td>2017466467</td>\n",
              "      <td>Wed Jun 03 08:26:14 PDT 2009</td>\n",
              "      <td>NO_QUERY</td>\n",
              "      <td>itsmemcee</td>\n",
              "      <td>A @ 415 B @ 425. Tell your bro i say congrats!</td>\n",
              "    </tr>\n",
              "    <tr>\n",
              "      <th>3</th>\n",
              "      <td>1560887</td>\n",
              "      <td>4</td>\n",
              "      <td>2186457254</td>\n",
              "      <td>Mon Jun 15 18:52:04 PDT 2009</td>\n",
              "      <td>NO_QUERY</td>\n",
              "      <td>jdfreivald</td>\n",
              "      <td>@littlefluffycat  Indeed.</td>\n",
              "    </tr>\n",
              "    <tr>\n",
              "      <th>4</th>\n",
              "      <td>1466295</td>\n",
              "      <td>4</td>\n",
              "      <td>2064458395</td>\n",
              "      <td>Sun Jun 07 06:19:20 PDT 2009</td>\n",
              "      <td>NO_QUERY</td>\n",
              "      <td>CrazyHan</td>\n",
              "      <td>Completed Race 4 Life in 58mins with girlies f...</td>\n",
              "    </tr>\n",
              "  </tbody>\n",
              "</table>\n",
              "</div>"
            ],
            "text/plain": [
              "   Unnamed: 0  ...                                               text\n",
              "0      680949  ...                                #brokenpromises... \n",
              "1      406741  ...  David Carradine  so sad. Thai's law not sure i...\n",
              "2     1337108  ...    A @ 415 B @ 425. Tell your bro i say congrats! \n",
              "3     1560887  ...                          @littlefluffycat  Indeed.\n",
              "4     1466295  ...  Completed Race 4 Life in 58mins with girlies f...\n",
              "\n",
              "[5 rows x 7 columns]"
            ]
          },
          "metadata": {
            "tags": []
          },
          "execution_count": 2
        }
      ]
    },
    {
      "cell_type": "code",
      "metadata": {
        "id": "VW3KZMvzSUJm"
      },
      "source": [
        "df['target'].replace({4: 1}, inplace = True)\n",
        "X = df['text']\n",
        "y = df['target']"
      ],
      "execution_count": 3,
      "outputs": []
    },
    {
      "cell_type": "markdown",
      "metadata": {
        "id": "t0Zrsit-SUJm"
      },
      "source": [
        "## Data pre-processing"
      ]
    },
    {
      "cell_type": "markdown",
      "metadata": {
        "id": "pKM0_pS5SUJm"
      },
      "source": [
        "### Removing the scpecial characters"
      ]
    },
    {
      "cell_type": "code",
      "metadata": {
        "id": "nzcEiq8tSUJm"
      },
      "source": [
        "import re\n",
        "\n",
        "def RemoveSpecialCharacters(x):\n",
        "    x = re.sub(r'[^\\w]+', \" \", x)\n",
        "    return x"
      ],
      "execution_count": 4,
      "outputs": []
    },
    {
      "cell_type": "code",
      "metadata": {
        "id": "gzJ4Kd61SUJm"
      },
      "source": [
        "X = X.apply(lambda x: RemoveSpecialCharacters(x) )"
      ],
      "execution_count": 5,
      "outputs": []
    },
    {
      "cell_type": "markdown",
      "metadata": {
        "id": "5P15gBnWSUJm"
      },
      "source": [
        "### Lemmatize"
      ]
    },
    {
      "cell_type": "code",
      "metadata": {
        "colab": {
          "base_uri": "https://localhost:8080/"
        },
        "id": "zk9vMwm0SUJm",
        "outputId": "421cd143-04ed-4d1d-cde1-16d2cbe1ef04"
      },
      "source": [
        "import nltk\n",
        "nltk.download('wordnet')\n",
        "from nltk.stem import WordNetLemmatizer\n",
        "\n",
        "X = X.apply(lambda x: WordNetLemmatizer().lemmatize(x))"
      ],
      "execution_count": 6,
      "outputs": [
        {
          "output_type": "stream",
          "text": [
            "[nltk_data] Downloading package wordnet to /root/nltk_data...\n",
            "[nltk_data]   Unzipping corpora/wordnet.zip.\n"
          ],
          "name": "stdout"
        }
      ]
    },
    {
      "cell_type": "code",
      "metadata": {
        "id": "EOLYmC4BSUJm"
      },
      "source": [
        "X = X.apply(lambda x: x.lower())"
      ],
      "execution_count": 7,
      "outputs": []
    },
    {
      "cell_type": "markdown",
      "metadata": {
        "id": "vTzW08GKSUJm"
      },
      "source": [
        "### Removing the upercase"
      ]
    },
    {
      "cell_type": "code",
      "metadata": {
        "id": "DrBPOkWcSUJm"
      },
      "source": [
        "X = X.apply(lambda x: x.lower())"
      ],
      "execution_count": 8,
      "outputs": []
    },
    {
      "cell_type": "markdown",
      "metadata": {
        "id": "jnmaBb9USUJm"
      },
      "source": [
        "## Vectorizing"
      ]
    },
    {
      "cell_type": "code",
      "metadata": {
        "id": "zBGMDV1DSUJm"
      },
      "source": [
        "def vectorizeData(X_train,X_test,X_val,vectorizer):\n",
        "    X_train = vectorizer.fit_transform(X_train)\n",
        "    X_test = vectorizer.transform(X_test)\n",
        "    X_val = vectorizer.transform(X_val)\n",
        "    \n",
        "    return X_train,X_test,X_val"
      ],
      "execution_count": 9,
      "outputs": []
    },
    {
      "cell_type": "code",
      "metadata": {
        "id": "_RJhsOYBSUJm"
      },
      "source": [
        "from sklearn.model_selection import train_test_split\n",
        "\n",
        "train_X, test_X, train_y, test_y = train_test_split(X, y, test_size=0.3,   random_state = 4, stratify = y)"
      ],
      "execution_count": 10,
      "outputs": []
    },
    {
      "cell_type": "code",
      "metadata": {
        "id": "kT9N8qcnSUJm"
      },
      "source": [
        "from sklearn.feature_extraction.text import TfidfVectorizer\n",
        "import numpy as np\n",
        "\n",
        "split_int = int(len(train_X)*0.8)\n",
        "\n",
        "train_X, val_X = train_X[:split_int], train_X[split_int:]\n",
        "train_y, val_y = train_y[:split_int], train_y[split_int:]\n",
        "\n",
        "tv = TfidfVectorizer(max_features=500)\n",
        "X_train, X_test, X_val =  vectorizeData(train_X, test_X, val_X, tv)\n",
        "\n",
        "X_train = X_train.toarray()\n",
        "y_train = train_y.values\n",
        "\n",
        "X_val = X_val.toarray()\n",
        "y_val = val_y.values\n",
        "\n",
        "X_test = X_test.toarray()\n",
        "y_test = test_y.values\n"
      ],
      "execution_count": 11,
      "outputs": []
    },
    {
      "cell_type": "markdown",
      "metadata": {
        "id": "F9sqYkzgSUJm"
      },
      "source": [
        "## Batching sentences together with a DataLoader"
      ]
    },
    {
      "cell_type": "code",
      "metadata": {
        "id": "MugWDpHxSUJm"
      },
      "source": [
        "import torch\n",
        "import torch.nn as nn\n",
        "from torch.utils.data import TensorDataset, DataLoader\n",
        "\n",
        "# tensor datasets\n",
        "train_data = TensorDataset(torch.from_numpy(X_train), torch.from_numpy(y_train))\n",
        "valid_data = TensorDataset(torch.from_numpy(X_val), torch.from_numpy(y_val))\n",
        "test_data = TensorDataset(torch.from_numpy(X_test), torch.from_numpy(y_test))\n",
        "\n",
        "# bach size\n",
        "batch_size = 100\n",
        "\n",
        "# dataloader\n",
        "train_loader = DataLoader(train_data, shuffle=True, batch_size=batch_size)\n",
        "valid_loader = DataLoader(valid_data, shuffle=True, batch_size=batch_size)\n",
        "\n",
        "test_loader = DataLoader(test_data, shuffle=True, batch_size=batch_size)"
      ],
      "execution_count": 12,
      "outputs": []
    },
    {
      "cell_type": "markdown",
      "metadata": {
        "id": "jzGmJL_PSUJm"
      },
      "source": [
        "## Architecture of NN"
      ]
    },
    {
      "cell_type": "code",
      "metadata": {
        "id": "54r961vkSUJm"
      },
      "source": [
        "class Model_2(nn.Module):\n",
        "    def __init__(self,input_size,hidden_size,num_classes = 1):\n",
        "        super(Model_2, self).__init__()\n",
        "     \n",
        "        self.fc1 = nn.Linear(input_size,hidden_size)\n",
        "        self.relu1 = nn.ReLU()\n",
        "        self.fc2 = nn.Linear(hidden_size,num_classes)\n",
        "        self.sigmoid = nn.Sigmoid()\n",
        "\n",
        "    def forward(self,x):\n",
        "        out = self.fc1(x)\n",
        "        out = self.relu1(out)\n",
        "        out = self.fc2(out)\n",
        "        out = self.sigmoid(out)\n",
        "        return out"
      ],
      "execution_count": 67,
      "outputs": []
    },
    {
      "cell_type": "code",
      "metadata": {
        "id": "UP2XqfdmSUJm"
      },
      "source": [
        "def train(model,X,y,optimizer,loss_fn):\n",
        "\n",
        "    # step 1. Zero the gradients\n",
        "#         model.zero_grad()\n",
        "        optimizer.zero_grad()\n",
        "    # step 2. Compute the output\n",
        "        y_pred = model(X)\n",
        "    # step 3. Compute the loss\n",
        "        loss = loss_fn(y_pred.squeeze(), y)\n",
        "    # step 4. use loss to produce gradients\n",
        "        loss.backward()\n",
        "    # step 5. use optimizer to take gradient step\n",
        "        optimizer.step()\n",
        "    \n",
        "        return loss.item()"
      ],
      "execution_count": 68,
      "outputs": []
    },
    {
      "cell_type": "code",
      "metadata": {
        "id": "_IePE6WPRvPL"
      },
      "source": [
        "def validate(classifier,X,y,loss_fn):\n",
        "  y_pred =  classifier(X)\n",
        "  loss = loss_fn(y_pred.squeeze(), y)\n",
        "\n",
        "  return loss.item()\n"
      ],
      "execution_count": 69,
      "outputs": []
    },
    {
      "cell_type": "code",
      "metadata": {
        "id": "Mw4BimL-SUJm"
      },
      "source": [
        "def predict(model,X):\n",
        "    outputs = model(X)\n",
        "    return torch.round(outputs)"
      ],
      "execution_count": 70,
      "outputs": []
    },
    {
      "cell_type": "code",
      "metadata": {
        "id": "hE5yTgIbrKdM"
      },
      "source": [
        "import matplotlib.pyplot as plt\n",
        "\n",
        "def plot_losses(list_of_losses,valid_losses,title):\n",
        "    plt.figure(figsize=(8,5))\n",
        "\n",
        "    plt.plot(valid_losses,'o-',color=\"r\")\n",
        "\n",
        "    plt.plot(list_of_losses,'o-',color=\"g\")\n",
        "\n",
        "    plt.grid()\n",
        "\n",
        "    plt.plot(valid_losses, 'o-', color=\"r\",\n",
        "                    label=\"Validation loss\")\n",
        "    plt.plot(list_of_losses,  'o-', color=\"g\",\n",
        "                    label=\"Training loss\")\n",
        "\n",
        "    plt.legend(loc=\"best\")\n",
        "\n",
        "    plt.xlabel(\"epochs\")\n",
        "    plt.ylabel(\"losses\")\n",
        "    plt.title(title)\n",
        "\n",
        "    plt.show()"
      ],
      "execution_count": 71,
      "outputs": []
    },
    {
      "cell_type": "code",
      "metadata": {
        "id": "yrpQVROkrObr"
      },
      "source": [
        "def training(net,train_loader,valid_loader,optimizer, loss_function,num_epochs = 5):\n",
        "\n",
        "  list_of_losses = []\n",
        "  valid_losses = []\n",
        "\n",
        "  for epoch in range(num_epochs):\n",
        "      running_loss = 0.0\n",
        "      net.train()\n",
        "      for batch_index, batch in (enumerate(train_loader)):\n",
        "          x_train, y_train = batch[0], batch[1]\n",
        "          x_train = x_train.float()\n",
        "          y_train = y_train.float()\n",
        "          \n",
        "          loss_t = train(net,x_train,y_train,optimizer,loss_function)       \n",
        "          running_loss += (loss_t - running_loss) / (batch_index + 1)\n",
        "                \n",
        "      list_of_losses.append(running_loss)\n",
        "\n",
        "      running_loss = 0.0\n",
        "      net.train()\n",
        "      for batch_index, batch in (enumerate(valid_loader)):\n",
        "          x_train, y_train = batch[0], batch[1]\n",
        "          x_train = x_train.float()\n",
        "          y_train = y_train.float()\n",
        "          \n",
        "          loss_t = validate(net,x_train,y_train,loss_function)       \n",
        "          running_loss += (loss_t - running_loss) / (batch_index + 1)\n",
        "      valid_losses.append(running_loss)\n",
        "       \n",
        "  return list_of_losses,valid_losses"
      ],
      "execution_count": 72,
      "outputs": []
    },
    {
      "cell_type": "code",
      "metadata": {
        "id": "Exkthr9ZrSCX"
      },
      "source": [
        "from sklearn.metrics import accuracy_score, f1_score,recall_score,precision_score\n",
        "\n",
        "def testing(net,test_loader):\n",
        "  accuracy = []\n",
        "  f1 = []\n",
        "  recall = []\n",
        "  precision = []\n",
        "\n",
        "  for bidx, batch in (enumerate(test_loader)):\n",
        "      x_test, y_test = batch[0], batch[1]\n",
        "      x_test = x_test.float()\n",
        "      y_test = y_test.float()\n",
        "      y_test = y_test.numpy()\n",
        "      y_pred = predict(net,x_test)\n",
        "      y_pred = y_pred.detach().numpy()\n",
        "      \n",
        "      acc = accuracy_score(y_test, y_pred)\n",
        "      f1_sc = f1_score(y_test, y_pred, average='macro')\n",
        "      rec = recall_score(y_test, y_pred, average='macro')\n",
        "      prec = precision_score(y_test, y_pred, average='macro')\n",
        "      \n",
        "      accuracy.append(acc)\n",
        "      f1.append(f1_sc)\n",
        "      recall.append(rec)\n",
        "      precision.append(prec)\n",
        "\n",
        "  return np.mean(accuracy),np.mean(f1),np.mean(recall),np.mean(precision)\n",
        "    "
      ],
      "execution_count": 73,
      "outputs": []
    },
    {
      "cell_type": "code",
      "metadata": {
        "id": "gfGYqc0nrZsf"
      },
      "source": [
        "df = pd.DataFrame(columns=[['Num of neurons','Accuracy','F1-score','Recall-score','Precision']])"
      ],
      "execution_count": 74,
      "outputs": []
    },
    {
      "cell_type": "markdown",
      "metadata": {
        "id": "i97djlJBSUJn"
      },
      "source": [
        "## Training\n",
        "\n"
      ]
    },
    {
      "cell_type": "code",
      "metadata": {
        "id": "NzVzgQkMSUJn"
      },
      "source": [
        "nlearning_rate = 0.0001\n",
        "net = Model_2(len(X_train[0]),hidden_size = 50) \n",
        "op = torch.optim.RMSprop(net.parameters(), lr=learning_rate)\n",
        "lf = nn.BCELoss()\n",
        "list_of_losses,valid_losses = training(net,train_loader,valid_loader,op, lf)"
      ],
      "execution_count": 76,
      "outputs": []
    },
    {
      "cell_type": "markdown",
      "metadata": {
        "id": "6DIHs2gdiZAm"
      },
      "source": [
        "## Check for Overfitting-Underfitting"
      ]
    },
    {
      "cell_type": "code",
      "metadata": {
        "colab": {
          "base_uri": "https://localhost:8080/",
          "height": 350
        },
        "id": "ntrRESB_VpGk",
        "outputId": "70369f44-f794-4d72-88c4-fcc476d43d92"
      },
      "source": [
        "title=(\"50 units\")\n",
        "plot_losses(list_of_losses,valid_losses,title)"
      ],
      "execution_count": 77,
      "outputs": [
        {
          "output_type": "display_data",
          "data": {
            "image/png": "[encoded data removed]",
            "text/plain": [
              "<Figure size 576x360 with 1 Axes>"
            ]
          },
          "metadata": {
            "tags": [],
            "needs_background": "light"
          }
        }
      ]
    },
    {
      "cell_type": "markdown",
      "metadata": {
        "id": "wy5AXsUrihYJ"
      },
      "source": [
        "## Test and save scores"
      ]
    },
    {
      "cell_type": "code",
      "metadata": {
        "id": "RSq0OlyjSUJn"
      },
      "source": [
        "acc, f1,recall,precision = testing(net,test_loader)\n",
        "df.loc[len(df)] = [\"50\",acc,f1,recall,precision]"
      ],
      "execution_count": 78,
      "outputs": []
    },
    {
      "cell_type": "markdown",
      "metadata": {
        "id": "BB4tu1Gas2xi"
      },
      "source": [
        "## **100 Units**"
      ]
    },
    {
      "cell_type": "code",
      "metadata": {
        "id": "xrso0_AOsvf1"
      },
      "source": [
        "nlearning_rate = 0.0001\n",
        "net = Model_2(len(X_train[0]),hidden_size = 100) \n",
        "op = torch.optim.RMSprop(net.parameters(), lr=learning_rate)\n",
        "lf = nn.BCELoss()\n",
        "list_of_losses,valid_losses = training(net,train_loader,valid_loader,op, lf)"
      ],
      "execution_count": 80,
      "outputs": []
    },
    {
      "cell_type": "markdown",
      "metadata": {
        "id": "Q1NrXn_Lsl1b"
      },
      "source": [
        "## Check for Overfitting-Underfitting"
      ]
    },
    {
      "cell_type": "code",
      "metadata": {
        "colab": {
          "base_uri": "https://localhost:8080/",
          "height": 350
        },
        "id": "0ruO57F5sl1c",
        "outputId": "25fa9b00-cb90-4646-d8de-79005cd11dd1"
      },
      "source": [
        "title=(\"100 units\")\n",
        "plot_losses(list_of_losses,valid_losses,title)"
      ],
      "execution_count": 81,
      "outputs": [
        {
          "output_type": "display_data",
          "data": {
            "image/png": "[encoded data removed]",
            "text/plain": [
              "<Figure size 576x360 with 1 Axes>"
            ]
          },
          "metadata": {
            "tags": [],
            "needs_background": "light"
          }
        }
      ]
    },
    {
      "cell_type": "markdown",
      "metadata": {
        "id": "S0Dvp1adsl1c"
      },
      "source": [
        "## Test and save scores"
      ]
    },
    {
      "cell_type": "code",
      "metadata": {
        "id": "GFD9sFoIsl1c"
      },
      "source": [
        "acc, f1,recall,precision = testing(net,test_loader)\n",
        "df.loc[len(df)] = [\"100\",acc,f1,recall,precision]"
      ],
      "execution_count": 82,
      "outputs": []
    },
    {
      "cell_type": "markdown",
      "metadata": {
        "id": "romrIv8wtA8h"
      },
      "source": [
        "## **500 Units**"
      ]
    },
    {
      "cell_type": "code",
      "metadata": {
        "id": "j_kBwUWEtA8h"
      },
      "source": [
        "nlearning_rate = 0.0001\n",
        "net = Model_2(len(X_train[0]),hidden_size = 500) \n",
        "op = torch.optim.RMSprop(net.parameters(), lr=learning_rate)\n",
        "lf = nn.BCELoss()\n",
        "list_of_losses,valid_losses = training(net,train_loader,valid_loader,op, lf)"
      ],
      "execution_count": 83,
      "outputs": []
    },
    {
      "cell_type": "markdown",
      "metadata": {
        "id": "wWAq99aMtA8h"
      },
      "source": [
        "## Check for Overfitting-Underfitting"
      ]
    },
    {
      "cell_type": "code",
      "metadata": {
        "id": "kfYheQ0wtA8h",
        "outputId": "201ddd56-952e-4af9-c78d-eedcb3c37d7c",
        "colab": {
          "base_uri": "https://localhost:8080/",
          "height": 350
        }
      },
      "source": [
        "title=(\"500 units\")\n",
        "plot_losses(list_of_losses,valid_losses,title)"
      ],
      "execution_count": 84,
      "outputs": [
        {
          "output_type": "display_data",
          "data": {
            "image/png": "[encoded data removed]",
            "text/plain": [
              "<Figure size 576x360 with 1 Axes>"
            ]
          },
          "metadata": {
            "tags": [],
            "needs_background": "light"
          }
        }
      ]
    },
    {
      "cell_type": "markdown",
      "metadata": {
        "id": "nT8Oq-1LtA8h"
      },
      "source": [
        "## Test and save scores"
      ]
    },
    {
      "cell_type": "code",
      "metadata": {
        "id": "FGPMBlPftA8h"
      },
      "source": [
        "acc, f1,recall,precision = testing(net,test_loader)\n",
        "df.loc[len(df)] = [\"500\",acc,f1,recall,precision]"
      ],
      "execution_count": 85,
      "outputs": []
    },
    {
      "cell_type": "markdown",
      "metadata": {
        "id": "OEGP8J2rtP5N"
      },
      "source": [
        "## **1000 Units**"
      ]
    },
    {
      "cell_type": "code",
      "metadata": {
        "id": "4kwZ_BBOtP5O"
      },
      "source": [
        "nlearning_rate = 0.0001\n",
        "net = Model_2(len(X_train[0]),hidden_size = 1000) \n",
        "op = torch.optim.RMSprop(net.parameters(), lr=learning_rate)\n",
        "lf = nn.BCELoss()\n",
        "list_of_losses,valid_losses = training(net,train_loader,valid_loader,op, lf)"
      ],
      "execution_count": 86,
      "outputs": []
    },
    {
      "cell_type": "markdown",
      "metadata": {
        "id": "IefNmtlPtP5O"
      },
      "source": [
        "## Check for Overfitting-Underfitting"
      ]
    },
    {
      "cell_type": "code",
      "metadata": {
        "id": "72vXQRxAtP5O",
        "outputId": "41f6e7a9-1e02-4cda-92d0-b6916637cb49",
        "colab": {
          "base_uri": "https://localhost:8080/",
          "height": 350
        }
      },
      "source": [
        "title=(\"1000 units\")\n",
        "plot_losses(list_of_losses,valid_losses,title)"
      ],
      "execution_count": 87,
      "outputs": [
        {
          "output_type": "display_data",
          "data": {
            "image/png": "[encoded data removed]",
            "text/plain": [
              "<Figure size 576x360 with 1 Axes>"
            ]
          },
          "metadata": {
            "tags": [],
            "needs_background": "light"
          }
        }
      ]
    },
    {
      "cell_type": "markdown",
      "metadata": {
        "id": "jCetmxlCtP5O"
      },
      "source": [
        "## Test and save scores"
      ]
    },
    {
      "cell_type": "code",
      "metadata": {
        "id": "eRN-PYpotP5O"
      },
      "source": [
        "acc, f1,recall,precision = testing(net,test_loader)\n",
        "df.loc[len(df)] = [\"1000\",acc,f1,recall,precision]"
      ],
      "execution_count": 88,
      "outputs": []
    },
    {
      "cell_type": "markdown",
      "metadata": {
        "id": "DCKcoFKcil_u"
      },
      "source": [
        "## **Scores**"
      ]
    },
    {
      "cell_type": "code",
      "metadata": {
        "id": "gHxrHpRUSUJn",
        "colab": {
          "base_uri": "https://localhost:8080/",
          "height": 171
        },
        "outputId": "46e1259f-5d72-428d-be1e-37f6ab4ac8cb"
      },
      "source": [
        "df"
      ],
      "execution_count": 89,
      "outputs": [
        {
          "output_type": "execute_result",
          "data": {
            "text/html": [
              "<div>\n",
              "<style scoped>\n",
              "    .dataframe tbody tr th:only-of-type {\n",
              "        vertical-align: middle;\n",
              "    }\n",
              "\n",
              "    .dataframe tbody tr th {\n",
              "        vertical-align: top;\n",
              "    }\n",
              "\n",
              "    .dataframe thead tr th {\n",
              "        text-align: left;\n",
              "    }\n",
              "</style>\n",
              "<table border=\"1\" class=\"dataframe\">\n",
              "  <thead>\n",
              "    <tr>\n",
              "      <th></th>\n",
              "      <th>Num of neurons</th>\n",
              "      <th>Accuracy</th>\n",
              "      <th>F1-score</th>\n",
              "      <th>Recall-score</th>\n",
              "      <th>Precision</th>\n",
              "    </tr>\n",
              "  </thead>\n",
              "  <tbody>\n",
              "    <tr>\n",
              "      <th>0</th>\n",
              "      <td>50</td>\n",
              "      <td>0.749849</td>\n",
              "      <td>0.747885</td>\n",
              "      <td>0.749772</td>\n",
              "      <td>0.749661</td>\n",
              "    </tr>\n",
              "    <tr>\n",
              "      <th>1</th>\n",
              "      <td>100</td>\n",
              "      <td>0.751820</td>\n",
              "      <td>0.749882</td>\n",
              "      <td>0.751731</td>\n",
              "      <td>0.751703</td>\n",
              "    </tr>\n",
              "    <tr>\n",
              "      <th>2</th>\n",
              "      <td>500</td>\n",
              "      <td>0.759510</td>\n",
              "      <td>0.757638</td>\n",
              "      <td>0.759590</td>\n",
              "      <td>0.759580</td>\n",
              "    </tr>\n",
              "    <tr>\n",
              "      <th>3</th>\n",
              "      <td>1000</td>\n",
              "      <td>0.763263</td>\n",
              "      <td>0.761383</td>\n",
              "      <td>0.763202</td>\n",
              "      <td>0.763336</td>\n",
              "    </tr>\n",
              "  </tbody>\n",
              "</table>\n",
              "</div>"
            ],
            "text/plain": [
              "  Num of neurons  Accuracy  F1-score Recall-score Precision\n",
              "0             50  0.749849  0.747885     0.749772  0.749661\n",
              "1            100  0.751820  0.749882     0.751731  0.751703\n",
              "2            500  0.759510  0.757638     0.759590  0.759580\n",
              "3           1000  0.763263  0.761383     0.763202  0.763336"
            ]
          },
          "metadata": {
            "tags": []
          },
          "execution_count": 89
        }
      ]
    },
    {
      "cell_type": "markdown",
      "metadata": {
        "id": "FV_j2UNpxEt8"
      },
      "source": [
        "## **Remarks**"
      ]
    },
    {
      "cell_type": "markdown",
      "metadata": {
        "id": "uMNVX1XcxE5I"
      },
      "source": [
        "\n",
        "\n",
        "*   For this model we used only two layers, an input, with ReLU as activation, function and an output, with sigmoid as activation function, layer and we experiment with the input size of the second one.\n",
        "*   We can observe that, while increasing the number of units of the layer the scores are getting higher.\n",
        "\n"
      ]
    }
  ]
}