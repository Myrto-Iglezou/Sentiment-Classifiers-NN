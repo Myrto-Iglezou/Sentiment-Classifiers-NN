{
 "cells": [
  {
   "cell_type": "markdown",
   "metadata": {
    "id": "dyEq68iPv_dw"
   },
   "source": [
    "## YΣ19 Artificial Intelligence II\n",
    "# Homework 2\n",
    "\n",
    "### Iglezou Myrto - 111520170038"
   ]
  },
  {
   "cell_type": "markdown",
   "metadata": {
    "id": "noegXjJov_d1"
   },
   "source": [
    "# Question 5"
   ]
  },
  {
   "cell_type": "code",
   "execution_count": 1,
   "metadata": {
    "id": "R4FkLNHBv_d4"
   },
   "outputs": [],
   "source": [
    "import pandas as pd \n",
    "from pandas import DataFrame, read_csv"
   ]
  },
  {
   "cell_type": "code",
   "execution_count": 19,
   "metadata": {
    "colab": {
     "base_uri": "https://localhost:8080/",
     "height": 271
    },
    "executionInfo": {
     "elapsed": 7381,
     "status": "ok",
     "timestamp": 1603793063158,
     "user": {
      "displayName": "Myrto Iglezou",
      "photoUrl": "https://lh3.googleusercontent.com/a-/AOh14GiGxz5i6bRZcITMuSj919yA4rcRZi2VcTgzmqCNVQ=s64",
      "userId": "01628466260297513800"
     },
     "user_tz": -120
    },
    "id": "mFmTNtE4v_eI",
    "outputId": "6f6cb6d8-d4d5-4e09-c4db-a1b3a05d3fad"
   },
   "outputs": [
    {
     "ename": "NameError",
     "evalue": "name 'download' is not defined",
     "output_type": "error",
     "traceback": [
      "\u001b[1;31m---------------------------------------------------------------------------\u001b[0m",
      "\u001b[1;31mNameError\u001b[0m                                 Traceback (most recent call last)",
      "\u001b[1;32m<ipython-input-19-d41ef9e7f2b1>\u001b[0m in \u001b[0;36m<module>\u001b[1;34m\u001b[0m\n\u001b[0;32m      4\u001b[0m \u001b[0moutput\u001b[0m \u001b[1;33m=\u001b[0m \u001b[1;34m\"twitterData.csv\"\u001b[0m\u001b[1;33m\u001b[0m\u001b[1;33m\u001b[0m\u001b[0m\n\u001b[0;32m      5\u001b[0m \u001b[1;31m# gdown.download(path, output, quiet=False)\u001b[0m\u001b[1;33m\u001b[0m\u001b[1;33m\u001b[0m\u001b[1;33m\u001b[0m\u001b[0m\n\u001b[1;32m----> 6\u001b[1;33m \u001b[0mdownload\u001b[0m\u001b[1;33m(\u001b[0m\u001b[0mpath\u001b[0m\u001b[1;33m,\u001b[0m \u001b[0moutput\u001b[0m\u001b[1;33m,\u001b[0m \u001b[0mquiet\u001b[0m\u001b[1;33m=\u001b[0m\u001b[1;32mFalse\u001b[0m\u001b[1;33m)\u001b[0m\u001b[1;33m\u001b[0m\u001b[1;33m\u001b[0m\u001b[0m\n\u001b[0m\u001b[0;32m      7\u001b[0m \u001b[0mtwitterData\u001b[0m \u001b[1;33m=\u001b[0m \u001b[0mpd\u001b[0m\u001b[1;33m.\u001b[0m\u001b[0mread_csv\u001b[0m\u001b[1;33m(\u001b[0m\u001b[1;34m\"/content/twitterData.csv\"\u001b[0m\u001b[1;33m)\u001b[0m\u001b[1;33m\u001b[0m\u001b[1;33m\u001b[0m\u001b[0m\n\u001b[0;32m      8\u001b[0m \u001b[0mdf\u001b[0m \u001b[1;33m=\u001b[0m \u001b[0mpd\u001b[0m\u001b[1;33m.\u001b[0m\u001b[0mDataFrame\u001b[0m\u001b[1;33m(\u001b[0m\u001b[0mdata\u001b[0m\u001b[1;33m=\u001b[0m\u001b[0mtwitterData\u001b[0m\u001b[1;33m)\u001b[0m\u001b[1;33m\u001b[0m\u001b[1;33m\u001b[0m\u001b[0m\n",
      "\u001b[1;31mNameError\u001b[0m: name 'download' is not defined"
     ]
    }
   ],
   "source": [
    "import gdown\n",
    "url = 'https://drive.google.com/file/d/1dTIWNpjlrnTQBIQtaGOh0jCRYZiAQO79/view?usp=sharing'\n",
    "path = 'https://drive.google.com/uc?export=download&id='+url.split('/')[-2]\n",
    "output = \"twitterData.csv\"\n",
    "gdown.download(path, output, quiet=False)\n",
    "twitterData = pd.read_csv(\"/content/twitterData.csv\")\n",
    "df = pd.DataFrame(data=twitterData)\n",
    "df.head(5)"
   ]
  },
  {
   "cell_type": "code",
   "execution_count": null,
   "metadata": {
    "id": "OHPG20asv_eY"
   },
   "outputs": [],
   "source": [
    "X = df['text']\n",
    "y = df['target']"
   ]
  },
  {
   "cell_type": "markdown",
   "metadata": {
    "id": "xz5oj4fZv_eq"
   },
   "source": [
    "### Original text"
   ]
  },
  {
   "cell_type": "code",
   "execution_count": null,
   "metadata": {
    "colab": {
     "base_uri": "https://localhost:8080/",
     "height": 225
    },
    "executionInfo": {
     "elapsed": 7362,
     "status": "ok",
     "timestamp": 1603793063160,
     "user": {
      "displayName": "Myrto Iglezou",
      "photoUrl": "https://lh3.googleusercontent.com/a-/AOh14GiGxz5i6bRZcITMuSj919yA4rcRZi2VcTgzmqCNVQ=s64",
      "userId": "01628466260297513800"
     },
     "user_tz": -120
    },
    "id": "TuJWnZt2v_et",
    "outputId": "5b42cee5-b804-4417-a99d-f9eacab1992c"
   },
   "outputs": [
    {
     "data": {
      "text/plain": [
       "0                                        #brokenpromises... \n",
       "1          David Carradine  so sad. Thai's law not sure i...\n",
       "2            A @ 415 B @ 425. Tell your bro i say congrats! \n",
       "3                                  @littlefluffycat  Indeed.\n",
       "4          Completed Race 4 Life in 58mins with girlies f...\n",
       "                                 ...                        \n",
       "1279995    @zawhtutwin watching cartoon and cry? oh i do ...\n",
       "1279996                                 is eating mcdonalds \n",
       "1279997    @BestSoyLatte So sorry to hear about your car....\n",
       "1279998    @leesherry you have done what you could. Forgi...\n",
       "1279999              i should b sleepin  i hate 8am's!!!!!!!\n",
       "Name: text, Length: 1280000, dtype: object"
      ]
     },
     "execution_count": 50,
     "metadata": {
      "tags": []
     },
     "output_type": "execute_result"
    }
   ],
   "source": [
    "X"
   ]
  },
  {
   "cell_type": "markdown",
   "metadata": {
    "id": "Rlugq5Ilv_e_"
   },
   "source": [
    "## Clean Data"
   ]
  },
  {
   "cell_type": "markdown",
   "metadata": {
    "id": "352xjl03v_fC"
   },
   "source": [
    "### Removing the scpecial characters"
   ]
  },
  {
   "cell_type": "code",
   "execution_count": null,
   "metadata": {
    "id": "z3MOkeo2v_fE"
   },
   "outputs": [],
   "source": [
    "import re\n",
    "\n",
    "def RemoveSpecialCharacters(x):\n",
    "    x = re.sub(r'[^\\w]+', \" \", x)\n",
    "    return x"
   ]
  },
  {
   "cell_type": "code",
   "execution_count": null,
   "metadata": {
    "colab": {
     "base_uri": "https://localhost:8080/",
     "height": 225
    },
    "executionInfo": {
     "elapsed": 14141,
     "status": "ok",
     "timestamp": 1603793069964,
     "user": {
      "displayName": "Myrto Iglezou",
      "photoUrl": "https://lh3.googleusercontent.com/a-/AOh14GiGxz5i6bRZcITMuSj919yA4rcRZi2VcTgzmqCNVQ=s64",
      "userId": "01628466260297513800"
     },
     "user_tz": -120
    },
    "id": "b7GSuWqjv_fQ",
    "outputId": "2364ffdf-dad1-447c-e3bc-f3e85a047394"
   },
   "outputs": [
    {
     "data": {
      "text/plain": [
       "0                                            brokenpromises \n",
       "1          David Carradine so sad Thai s law not sure if ...\n",
       "2                  A 415 B 425 Tell your bro i say congrats \n",
       "3                                    littlefluffycat Indeed \n",
       "4          Completed Race 4 Life in 58mins with girlies f...\n",
       "                                 ...                        \n",
       "1279995     zawhtutwin watching cartoon and cry oh i do t...\n",
       "1279996                                 is eating mcdonalds \n",
       "1279997     BestSoyLatte So sorry to hear about your car ...\n",
       "1279998     leesherry you have done what you could Forgiv...\n",
       "1279999                     i should b sleepin i hate 8am s \n",
       "Name: text, Length: 1280000, dtype: object"
      ]
     },
     "execution_count": 52,
     "metadata": {
      "tags": []
     },
     "output_type": "execute_result"
    }
   ],
   "source": [
    "X = X.apply(lambda x: RemoveSpecialCharacters(x) )\n",
    "X "
   ]
  },
  {
   "cell_type": "markdown",
   "metadata": {
    "id": "vrEzIidPv_fd"
   },
   "source": [
    "### Lemmatize"
   ]
  },
  {
   "cell_type": "code",
   "execution_count": null,
   "metadata": {
    "colab": {
     "base_uri": "https://localhost:8080/",
     "height": 52
    },
    "executionInfo": {
     "elapsed": 18612,
     "status": "ok",
     "timestamp": 1603793074450,
     "user": {
      "displayName": "Myrto Iglezou",
      "photoUrl": "https://lh3.googleusercontent.com/a-/AOh14GiGxz5i6bRZcITMuSj919yA4rcRZi2VcTgzmqCNVQ=s64",
      "userId": "01628466260297513800"
     },
     "user_tz": -120
    },
    "id": "UuedHgPov_ff",
    "outputId": "f9698fb8-92cf-4011-ef45-54af498bf812"
   },
   "outputs": [
    {
     "name": "stdout",
     "output_type": "stream",
     "text": [
      "[nltk_data] Downloading package wordnet to /root/nltk_data...\n",
      "[nltk_data]   Package wordnet is already up-to-date!\n"
     ]
    }
   ],
   "source": [
    "import nltk\n",
    "nltk.download('wordnet')\n",
    "from nltk.stem import WordNetLemmatizer\n",
    "\n",
    "X = X.apply(lambda x: WordNetLemmatizer().lemmatize(x))"
   ]
  },
  {
   "cell_type": "code",
   "execution_count": null,
   "metadata": {
    "colab": {
     "base_uri": "https://localhost:8080/",
     "height": 225
    },
    "executionInfo": {
     "elapsed": 18601,
     "status": "ok",
     "timestamp": 1603793074452,
     "user": {
      "displayName": "Myrto Iglezou",
      "photoUrl": "https://lh3.googleusercontent.com/a-/AOh14GiGxz5i6bRZcITMuSj919yA4rcRZi2VcTgzmqCNVQ=s64",
      "userId": "01628466260297513800"
     },
     "user_tz": -120
    },
    "id": "yrYpD4gNv_fu",
    "outputId": "d028af7f-e335-45aa-8a98-e10a2c2ff038"
   },
   "outputs": [
    {
     "data": {
      "text/plain": [
       "0                                            brokenpromises \n",
       "1          David Carradine so sad Thai s law not sure if ...\n",
       "2                  A 415 B 425 Tell your bro i say congrats \n",
       "3                                    littlefluffycat Indeed \n",
       "4          Completed Race 4 Life in 58mins with girlies f...\n",
       "                                 ...                        \n",
       "1279995     zawhtutwin watching cartoon and cry oh i do t...\n",
       "1279996                                 is eating mcdonalds \n",
       "1279997     BestSoyLatte So sorry to hear about your car ...\n",
       "1279998     leesherry you have done what you could Forgiv...\n",
       "1279999                     i should b sleepin i hate 8am s \n",
       "Name: text, Length: 1280000, dtype: object"
      ]
     },
     "execution_count": 54,
     "metadata": {
      "tags": []
     },
     "output_type": "execute_result"
    }
   ],
   "source": [
    "X"
   ]
  },
  {
   "cell_type": "markdown",
   "metadata": {
    "id": "8H0PlsO8v_gB"
   },
   "source": [
    "### Removing the upercase"
   ]
  },
  {
   "cell_type": "code",
   "execution_count": null,
   "metadata": {
    "id": "m02cQIfQv_gE"
   },
   "outputs": [],
   "source": [
    "X = X.apply(lambda x: x.lower())"
   ]
  },
  {
   "cell_type": "code",
   "execution_count": null,
   "metadata": {
    "colab": {
     "base_uri": "https://localhost:8080/",
     "height": 225
    },
    "executionInfo": {
     "elapsed": 19091,
     "status": "ok",
     "timestamp": 1603793074968,
     "user": {
      "displayName": "Myrto Iglezou",
      "photoUrl": "https://lh3.googleusercontent.com/a-/AOh14GiGxz5i6bRZcITMuSj919yA4rcRZi2VcTgzmqCNVQ=s64",
      "userId": "01628466260297513800"
     },
     "user_tz": -120
    },
    "id": "9gBf_eedv_gO",
    "outputId": "448b83ae-bdc9-44d5-b537-b3dd80c97647"
   },
   "outputs": [
    {
     "data": {
      "text/plain": [
       "0                                            brokenpromises \n",
       "1          david carradine so sad thai s law not sure if ...\n",
       "2                  a 415 b 425 tell your bro i say congrats \n",
       "3                                    littlefluffycat indeed \n",
       "4          completed race 4 life in 58mins with girlies f...\n",
       "                                 ...                        \n",
       "1279995     zawhtutwin watching cartoon and cry oh i do t...\n",
       "1279996                                 is eating mcdonalds \n",
       "1279997     bestsoylatte so sorry to hear about your car ...\n",
       "1279998     leesherry you have done what you could forgiv...\n",
       "1279999                     i should b sleepin i hate 8am s \n",
       "Name: text, Length: 1280000, dtype: object"
      ]
     },
     "execution_count": 56,
     "metadata": {
      "tags": []
     },
     "output_type": "execute_result"
    }
   ],
   "source": [
    "X"
   ]
  },
  {
   "cell_type": "markdown",
   "metadata": {
    "id": "PbVeKIsHv_gg"
   },
   "source": [
    "### Removing the stopwords"
   ]
  },
  {
   "cell_type": "code",
   "execution_count": null,
   "metadata": {
    "colab": {
     "base_uri": "https://localhost:8080/",
     "height": 52
    },
    "executionInfo": {
     "elapsed": 22805,
     "status": "ok",
     "timestamp": 1603793078694,
     "user": {
      "displayName": "Myrto Iglezou",
      "photoUrl": "https://lh3.googleusercontent.com/a-/AOh14GiGxz5i6bRZcITMuSj919yA4rcRZi2VcTgzmqCNVQ=s64",
      "userId": "01628466260297513800"
     },
     "user_tz": -120
    },
    "id": "AIWE-2m1v_gl",
    "outputId": "a7b224ce-295c-458d-b07c-a1ee8393b3c1"
   },
   "outputs": [
    {
     "name": "stdout",
     "output_type": "stream",
     "text": [
      "[nltk_data] Downloading package stopwords to /root/nltk_data...\n",
      "[nltk_data]   Package stopwords is already up-to-date!\n"
     ]
    }
   ],
   "source": [
    "import nltk\n",
    "nltk.download('stopwords')\n",
    "from nltk.corpus import stopwords as stopwords2\n",
    "\n",
    "stopwords =  set(stopwords2.words('english'))\n",
    "\n",
    "X = X.apply(lambda x: ' '.join([word for word in x.split() if word not in (stopwords)]))\n",
    "   "
   ]
  },
  {
   "cell_type": "code",
   "execution_count": null,
   "metadata": {
    "colab": {
     "base_uri": "https://localhost:8080/",
     "height": 225
    },
    "executionInfo": {
     "elapsed": 22793,
     "status": "ok",
     "timestamp": 1603793078696,
     "user": {
      "displayName": "Myrto Iglezou",
      "photoUrl": "https://lh3.googleusercontent.com/a-/AOh14GiGxz5i6bRZcITMuSj919yA4rcRZi2VcTgzmqCNVQ=s64",
      "userId": "01628466260297513800"
     },
     "user_tz": -120
    },
    "id": "aA4cRI6uv_gz",
    "outputId": "553450ae-3450-4f34-b9ae-b2af404fb04e"
   },
   "outputs": [
    {
     "data": {
      "text/plain": [
       "0                                             brokenpromises\n",
       "1          david carradine sad thai law sure fowl play ma...\n",
       "2                            415 b 425 tell bro say congrats\n",
       "3                                     littlefluffycat indeed\n",
       "4          completed race 4 life 58mins girlies work fun ...\n",
       "                                 ...                        \n",
       "1279995    zawhtutwin watching cartoon cry oh time gets e...\n",
       "1279996                                     eating mcdonalds\n",
       "1279997      bestsoylatte sorry hear car definition bad news\n",
       "1279998    leesherry done could forgiveness process reali...\n",
       "1279999                                   b sleepin hate 8am\n",
       "Name: text, Length: 1280000, dtype: object"
      ]
     },
     "execution_count": 58,
     "metadata": {
      "tags": []
     },
     "output_type": "execute_result"
    }
   ],
   "source": [
    "X"
   ]
  },
  {
   "cell_type": "markdown",
   "metadata": {
    "id": "x28p2eFyv_hB"
   },
   "source": [
    "## Split data"
   ]
  },
  {
   "cell_type": "code",
   "execution_count": null,
   "metadata": {
    "id": "TpQ2Iq4-v_hG"
   },
   "outputs": [],
   "source": [
    "import sklearn\n",
    "from sklearn.model_selection import train_test_split, cross_val_score, StratifiedKFold, GridSearchCV, cross_validate, cross_val_predict\n",
    "\n",
    "X_train, X_test, y_train, y_test = train_test_split(X, y, test_size = 0.2, random_state = 4, stratify = y)"
   ]
  },
  {
   "cell_type": "markdown",
   "metadata": {
    "id": "VxVhzmF4v_hS"
   },
   "source": [
    "## Vectorize the Data (tfidf)"
   ]
  },
  {
   "cell_type": "code",
   "execution_count": null,
   "metadata": {
    "id": "t1KqR73Gv_hW"
   },
   "outputs": [],
   "source": [
    "def vectorizeData(X_train,X_test,vectorizer):\n",
    "    X_train = vectorizer.fit_transform(X_train)\n",
    "    X_test = vectorizer.transform(X_test)\n",
    "    return X_train,X_test"
   ]
  },
  {
   "cell_type": "code",
   "execution_count": null,
   "metadata": {
    "id": "e6DwlcpMv_hh"
   },
   "outputs": [],
   "source": [
    "from sklearn.feature_extraction.text import TfidfVectorizer,CountVectorizer\n",
    "\n",
    "tfidfVectorizer = TfidfVectorizer(max_df=1.0,min_df=1)\n",
    "tfidf_train,tfidf_test = vectorizeData(X_train,X_test,tfidfVectorizer)"
   ]
  },
  {
   "cell_type": "markdown",
   "metadata": {
    "id": "2aAn0xz4v_hz"
   },
   "source": [
    "## Cross validation"
   ]
  },
  {
   "cell_type": "code",
   "execution_count": null,
   "metadata": {
    "id": "nFps1Vo4v_h3"
   },
   "outputs": [],
   "source": [
    "from sklearn.linear_model import LogisticRegression\n",
    "from sklearn.metrics import accuracy_score\n",
    "\n",
    "clf_lr = LogisticRegression( max_iter=1000)\n",
    "scores = cross_val_score(clf_lr, tfidf_train, y_train, cv=10, n_jobs=4)"
   ]
  },
  {
   "cell_type": "code",
   "execution_count": null,
   "metadata": {
    "colab": {
     "base_uri": "https://localhost:8080/",
     "height": 52
    },
    "executionInfo": {
     "elapsed": 973050,
     "status": "ok",
     "timestamp": 1603794029007,
     "user": {
      "displayName": "Myrto Iglezou",
      "photoUrl": "https://lh3.googleusercontent.com/a-/AOh14GiGxz5i6bRZcITMuSj919yA4rcRZi2VcTgzmqCNVQ=s64",
      "userId": "01628466260297513800"
     },
     "user_tz": -120
    },
    "id": "GazonGIPv_iE",
    "outputId": "62fb3317-25d9-4024-c9b4-35679fee691f"
   },
   "outputs": [
    {
     "data": {
      "text/plain": [
       "array([0.78318359, 0.78175781, 0.78188477, 0.78207031, 0.78143555,\n",
       "       0.78361328, 0.78102539, 0.78173828, 0.78369141, 0.78208984])"
      ]
     },
     "execution_count": 63,
     "metadata": {
      "tags": []
     },
     "output_type": "execute_result"
    }
   ],
   "source": [
    "scores"
   ]
  },
  {
   "cell_type": "code",
   "execution_count": null,
   "metadata": {
    "colab": {
     "base_uri": "https://localhost:8080/",
     "height": 35
    },
    "executionInfo": {
     "elapsed": 973039,
     "status": "ok",
     "timestamp": 1603794029007,
     "user": {
      "displayName": "Myrto Iglezou",
      "photoUrl": "https://lh3.googleusercontent.com/a-/AOh14GiGxz5i6bRZcITMuSj919yA4rcRZi2VcTgzmqCNVQ=s64",
      "userId": "01628466260297513800"
     },
     "user_tz": -120
    },
    "id": "GL1vnCGtv_iQ",
    "outputId": "0db81e2d-fedb-44fe-c1bc-f24f16860a0f"
   },
   "outputs": [
    {
     "data": {
      "text/plain": [
       "0.7822490234374999"
      ]
     },
     "execution_count": 64,
     "metadata": {
      "tags": []
     },
     "output_type": "execute_result"
    }
   ],
   "source": [
    "scores.mean()"
   ]
  },
  {
   "cell_type": "code",
   "execution_count": null,
   "metadata": {
    "colab": {
     "base_uri": "https://localhost:8080/",
     "height": 173
    },
    "executionInfo": {
     "elapsed": 1116600,
     "status": "ok",
     "timestamp": 1603794172577,
     "user": {
      "displayName": "Myrto Iglezou",
      "photoUrl": "https://lh3.googleusercontent.com/a-/AOh14GiGxz5i6bRZcITMuSj919yA4rcRZi2VcTgzmqCNVQ=s64",
      "userId": "01628466260297513800"
     },
     "user_tz": -120
    },
    "id": "uhtnvU7Cv_ic",
    "outputId": "ff9f3b07-9934-4931-973d-d529d4d8bd0b"
   },
   "outputs": [
    {
     "name": "stdout",
     "output_type": "stream",
     "text": [
      "              precision    recall  f1-score   support\n",
      "\n",
      "           0       0.79      0.76      0.78    127878\n",
      "           4       0.77      0.80      0.79    128122\n",
      "\n",
      "    accuracy                           0.78    256000\n",
      "   macro avg       0.78      0.78      0.78    256000\n",
      "weighted avg       0.78      0.78      0.78    256000\n",
      "\n"
     ]
    }
   ],
   "source": [
    "from sklearn.metrics import classification_report\n",
    "clf_lr.fit(tfidf_train, y_train)\n",
    "y_predict = clf_lr.predict(tfidf_test)\n",
    "print(classification_report(y_test, y_predict))"
   ]
  },
  {
   "cell_type": "code",
   "execution_count": null,
   "metadata": {
    "id": "GDuzrHpZv_iq"
   },
   "outputs": [],
   "source": [
    "import matplotlib.pyplot as plt\n",
    "import numpy as np\n",
    "import itertools\n",
    "\n",
    "def plot_confusion_matrix(cm, classes, normalize=False, title='Confusion matrix', cmap=plt.cm.Oranges):\n",
    "\n",
    "    plt.imshow(cm, interpolation='nearest', cmap=cmap)\n",
    "    plt.title(title)\n",
    "    plt.colorbar()\n",
    "    tick_marks = np.arange(len(classes))\n",
    "    plt.xticks(tick_marks, classes, rotation=45)\n",
    "    plt.yticks(tick_marks, classes)\n",
    "\n",
    "    thresh = cm.max() / 2.\n",
    "    for i, j in itertools.product(range(cm.shape[0]), range(cm.shape[1])):\n",
    "        plt.text(j, i, cm[i, j],\n",
    "                 horizontalalignment=\"center\",\n",
    "                 color=\"black\" if cm[i, j] > thresh else \"red\")\n",
    "\n",
    "    plt.tight_layout()\n",
    "    plt.ylabel('True label')\n",
    "    plt.xlabel('Predicted label')\n",
    "    plt.tight_layout()\n",
    "    plt.ylim([1.5, -.5])\n",
    "    plt.show()"
   ]
  },
  {
   "cell_type": "markdown",
   "metadata": {
    "id": "QM7zsb38v_iy"
   },
   "source": [
    "## Confusion Matrix"
   ]
  },
  {
   "cell_type": "code",
   "execution_count": null,
   "metadata": {
    "colab": {
     "base_uri": "https://localhost:8080/",
     "height": 297
    },
    "executionInfo": {
     "elapsed": 1116905,
     "status": "ok",
     "timestamp": 1603794172903,
     "user": {
      "displayName": "Myrto Iglezou",
      "photoUrl": "https://lh3.googleusercontent.com/a-/AOh14GiGxz5i6bRZcITMuSj919yA4rcRZi2VcTgzmqCNVQ=s64",
      "userId": "01628466260297513800"
     },
     "user_tz": -120
    },
    "id": "dnvfOSJSv_i0",
    "outputId": "fbf279a3-c850-4ce7-c929-eb56c69b58e6"
   },
   "outputs": [
    {
     "data": {
      "image/png": "[encoded data removed]",
      "text/plain": [
       "<Figure size 432x288 with 2 Axes>"
      ]
     },
     "metadata": {
      "needs_background": "light",
      "tags": []
     },
     "output_type": "display_data"
    }
   ],
   "source": [
    "from sklearn.metrics import confusion_matrix\n",
    "\n",
    "cm = confusion_matrix(y_test, y_predict, labels=[0, 4])\n",
    "plot_confusion_matrix(cm, classes=['0', '4'])"
   ]
  },
  {
   "cell_type": "markdown",
   "metadata": {
    "id": "KCh2fO932_Ob"
   },
   "source": [
    "## Grid Search"
   ]
  },
  {
   "cell_type": "code",
   "execution_count": null,
   "metadata": {
    "id": "tVRxxV8Kv_i-"
   },
   "outputs": [],
   "source": [
    "import warnings\n",
    "warnings.filterwarnings(\"ignore\") # warning for iterations\n",
    "\n",
    "parameters = {'solver':['newton-cg', 'lbfgs', 'liblinear', 'sag', 'saga'], 'max_iter':[100,1000,10000]}\n",
    "\n",
    "grid = GridSearchCV(clf_lr, parameters, refit=False,return_train_score=False,\n",
    "                    scoring=['precision_macro','recall_macro','f1_macro'])\n",
    "grid.fit(tfidf_train, y_train)  # fitting the model for grid search \n",
    "tempDf = pd.DataFrame(grid.cv_results_)\n"
   ]
  },
  {
   "cell_type": "code",
   "execution_count": null,
   "metadata": {
    "colab": {
     "base_uri": "https://localhost:8080/",
     "height": 509
    },
    "executionInfo": {
     "elapsed": 3894600,
     "status": "ok",
     "timestamp": 1603796950620,
     "user": {
      "displayName": "Myrto Iglezou",
      "photoUrl": "https://lh3.googleusercontent.com/a-/AOh14GiGxz5i6bRZcITMuSj919yA4rcRZi2VcTgzmqCNVQ=s64",
      "userId": "01628466260297513800"
     },
     "user_tz": -120
    },
    "id": "wEQqv4qRv_jI",
    "outputId": "890ecbd9-84f0-47bf-cba5-d10d55d0c500"
   },
   "outputs": [
    {
     "data": {
      "text/html": [
       "<div>\n",
       "<style scoped>\n",
       "    .dataframe tbody tr th:only-of-type {\n",
       "        vertical-align: middle;\n",
       "    }\n",
       "\n",
       "    .dataframe tbody tr th {\n",
       "        vertical-align: top;\n",
       "    }\n",
       "\n",
       "    .dataframe thead th {\n",
       "        text-align: right;\n",
       "    }\n",
       "</style>\n",
       "<table border=\"1\" class=\"dataframe\">\n",
       "  <thead>\n",
       "    <tr style=\"text-align: right;\">\n",
       "      <th></th>\n",
       "      <th>param_solver</th>\n",
       "      <th>param_max_iter</th>\n",
       "      <th>mean_test_precision_macro</th>\n",
       "      <th>mean_test_recall_macro</th>\n",
       "      <th>mean_test_f1_macro</th>\n",
       "    </tr>\n",
       "  </thead>\n",
       "  <tbody>\n",
       "    <tr>\n",
       "      <th>0</th>\n",
       "      <td>newton-cg</td>\n",
       "      <td>100</td>\n",
       "      <td>0.782357</td>\n",
       "      <td>0.781567</td>\n",
       "      <td>0.781433</td>\n",
       "    </tr>\n",
       "    <tr>\n",
       "      <th>1</th>\n",
       "      <td>lbfgs</td>\n",
       "      <td>100</td>\n",
       "      <td>0.780982</td>\n",
       "      <td>0.780140</td>\n",
       "      <td>0.779995</td>\n",
       "    </tr>\n",
       "    <tr>\n",
       "      <th>2</th>\n",
       "      <td>liblinear</td>\n",
       "      <td>100</td>\n",
       "      <td>0.782356</td>\n",
       "      <td>0.781566</td>\n",
       "      <td>0.781432</td>\n",
       "    </tr>\n",
       "    <tr>\n",
       "      <th>3</th>\n",
       "      <td>sag</td>\n",
       "      <td>100</td>\n",
       "      <td>0.782360</td>\n",
       "      <td>0.781570</td>\n",
       "      <td>0.781436</td>\n",
       "    </tr>\n",
       "    <tr>\n",
       "      <th>4</th>\n",
       "      <td>saga</td>\n",
       "      <td>100</td>\n",
       "      <td>0.782361</td>\n",
       "      <td>0.781571</td>\n",
       "      <td>0.781437</td>\n",
       "    </tr>\n",
       "    <tr>\n",
       "      <th>5</th>\n",
       "      <td>newton-cg</td>\n",
       "      <td>1000</td>\n",
       "      <td>0.782357</td>\n",
       "      <td>0.781567</td>\n",
       "      <td>0.781433</td>\n",
       "    </tr>\n",
       "    <tr>\n",
       "      <th>6</th>\n",
       "      <td>lbfgs</td>\n",
       "      <td>1000</td>\n",
       "      <td>0.782366</td>\n",
       "      <td>0.781577</td>\n",
       "      <td>0.781443</td>\n",
       "    </tr>\n",
       "    <tr>\n",
       "      <th>7</th>\n",
       "      <td>liblinear</td>\n",
       "      <td>1000</td>\n",
       "      <td>0.782356</td>\n",
       "      <td>0.781566</td>\n",
       "      <td>0.781432</td>\n",
       "    </tr>\n",
       "    <tr>\n",
       "      <th>8</th>\n",
       "      <td>sag</td>\n",
       "      <td>1000</td>\n",
       "      <td>0.782358</td>\n",
       "      <td>0.781568</td>\n",
       "      <td>0.781434</td>\n",
       "    </tr>\n",
       "    <tr>\n",
       "      <th>9</th>\n",
       "      <td>saga</td>\n",
       "      <td>1000</td>\n",
       "      <td>0.782358</td>\n",
       "      <td>0.781568</td>\n",
       "      <td>0.781434</td>\n",
       "    </tr>\n",
       "    <tr>\n",
       "      <th>10</th>\n",
       "      <td>newton-cg</td>\n",
       "      <td>10000</td>\n",
       "      <td>0.782357</td>\n",
       "      <td>0.781567</td>\n",
       "      <td>0.781433</td>\n",
       "    </tr>\n",
       "    <tr>\n",
       "      <th>11</th>\n",
       "      <td>lbfgs</td>\n",
       "      <td>10000</td>\n",
       "      <td>0.782366</td>\n",
       "      <td>0.781577</td>\n",
       "      <td>0.781443</td>\n",
       "    </tr>\n",
       "    <tr>\n",
       "      <th>12</th>\n",
       "      <td>liblinear</td>\n",
       "      <td>10000</td>\n",
       "      <td>0.782356</td>\n",
       "      <td>0.781566</td>\n",
       "      <td>0.781432</td>\n",
       "    </tr>\n",
       "    <tr>\n",
       "      <th>13</th>\n",
       "      <td>sag</td>\n",
       "      <td>10000</td>\n",
       "      <td>0.782359</td>\n",
       "      <td>0.781569</td>\n",
       "      <td>0.781435</td>\n",
       "    </tr>\n",
       "    <tr>\n",
       "      <th>14</th>\n",
       "      <td>saga</td>\n",
       "      <td>10000</td>\n",
       "      <td>0.782360</td>\n",
       "      <td>0.781570</td>\n",
       "      <td>0.781436</td>\n",
       "    </tr>\n",
       "  </tbody>\n",
       "</table>\n",
       "</div>"
      ],
      "text/plain": [
       "   param_solver param_max_iter  ...  mean_test_recall_macro  mean_test_f1_macro\n",
       "0     newton-cg            100  ...                0.781567            0.781433\n",
       "1         lbfgs            100  ...                0.780140            0.779995\n",
       "2     liblinear            100  ...                0.781566            0.781432\n",
       "3           sag            100  ...                0.781570            0.781436\n",
       "4          saga            100  ...                0.781571            0.781437\n",
       "5     newton-cg           1000  ...                0.781567            0.781433\n",
       "6         lbfgs           1000  ...                0.781577            0.781443\n",
       "7     liblinear           1000  ...                0.781566            0.781432\n",
       "8           sag           1000  ...                0.781568            0.781434\n",
       "9          saga           1000  ...                0.781568            0.781434\n",
       "10    newton-cg          10000  ...                0.781567            0.781433\n",
       "11        lbfgs          10000  ...                0.781577            0.781443\n",
       "12    liblinear          10000  ...                0.781566            0.781432\n",
       "13          sag          10000  ...                0.781569            0.781435\n",
       "14         saga          10000  ...                0.781570            0.781436\n",
       "\n",
       "[15 rows x 5 columns]"
      ]
     },
     "execution_count": 69,
     "metadata": {
      "tags": []
     },
     "output_type": "execute_result"
    }
   ],
   "source": [
    "tempDf[['param_solver','param_max_iter','mean_test_precision_macro','mean_test_recall_macro', 'mean_test_f1_macro']]"
   ]
  },
  {
   "cell_type": "markdown",
   "metadata": {
    "id": "AdCwbmFygXfv"
   },
   "source": [
    "Best parameters in precision metric\n"
   ]
  },
  {
   "cell_type": "code",
   "execution_count": null,
   "metadata": {
    "colab": {
     "base_uri": "https://localhost:8080/",
     "height": 79
    },
    "executionInfo": {
     "elapsed": 3894593,
     "status": "ok",
     "timestamp": 1603796950623,
     "user": {
      "displayName": "Myrto Iglezou",
      "photoUrl": "https://lh3.googleusercontent.com/a-/AOh14GiGxz5i6bRZcITMuSj919yA4rcRZi2VcTgzmqCNVQ=s64",
      "userId": "01628466260297513800"
     },
     "user_tz": -120
    },
    "id": "G5beodkVd58a",
    "outputId": "6341ce61-ecad-4329-b13b-e394c6d89c57"
   },
   "outputs": [
    {
     "data": {
      "text/html": [
       "<div>\n",
       "<style scoped>\n",
       "    .dataframe tbody tr th:only-of-type {\n",
       "        vertical-align: middle;\n",
       "    }\n",
       "\n",
       "    .dataframe tbody tr th {\n",
       "        vertical-align: top;\n",
       "    }\n",
       "\n",
       "    .dataframe thead th {\n",
       "        text-align: right;\n",
       "    }\n",
       "</style>\n",
       "<table border=\"1\" class=\"dataframe\">\n",
       "  <thead>\n",
       "    <tr style=\"text-align: right;\">\n",
       "      <th></th>\n",
       "      <th>param_solver</th>\n",
       "      <th>param_max_iter</th>\n",
       "      <th>mean_test_precision_macro</th>\n",
       "    </tr>\n",
       "  </thead>\n",
       "  <tbody>\n",
       "    <tr>\n",
       "      <th>6</th>\n",
       "      <td>lbfgs</td>\n",
       "      <td>1000</td>\n",
       "      <td>0.782366</td>\n",
       "    </tr>\n",
       "  </tbody>\n",
       "</table>\n",
       "</div>"
      ],
      "text/plain": [
       "  param_solver param_max_iter  mean_test_precision_macro\n",
       "6        lbfgs           1000                   0.782366"
      ]
     },
     "execution_count": 70,
     "metadata": {
      "tags": []
     },
     "output_type": "execute_result"
    }
   ],
   "source": [
    "row = tempDf.iloc[tempDf[['mean_test_precision_macro']].idxmax()]\n",
    "row[['param_solver','param_max_iter','mean_test_precision_macro']]"
   ]
  },
  {
   "cell_type": "markdown",
   "metadata": {
    "id": "gr7k5FApgqaO"
   },
   "source": [
    "Best parameters in recall metric"
   ]
  },
  {
   "cell_type": "code",
   "execution_count": null,
   "metadata": {
    "colab": {
     "base_uri": "https://localhost:8080/",
     "height": 79
    },
    "executionInfo": {
     "elapsed": 3894585,
     "status": "ok",
     "timestamp": 1603796950626,
     "user": {
      "displayName": "Myrto Iglezou",
      "photoUrl": "https://lh3.googleusercontent.com/a-/AOh14GiGxz5i6bRZcITMuSj919yA4rcRZi2VcTgzmqCNVQ=s64",
      "userId": "01628466260297513800"
     },
     "user_tz": -120
    },
    "id": "S1xn4nJIfEan",
    "outputId": "f4d616d9-896e-431d-da72-eeb09cbcd75f"
   },
   "outputs": [
    {
     "data": {
      "text/html": [
       "<div>\n",
       "<style scoped>\n",
       "    .dataframe tbody tr th:only-of-type {\n",
       "        vertical-align: middle;\n",
       "    }\n",
       "\n",
       "    .dataframe tbody tr th {\n",
       "        vertical-align: top;\n",
       "    }\n",
       "\n",
       "    .dataframe thead th {\n",
       "        text-align: right;\n",
       "    }\n",
       "</style>\n",
       "<table border=\"1\" class=\"dataframe\">\n",
       "  <thead>\n",
       "    <tr style=\"text-align: right;\">\n",
       "      <th></th>\n",
       "      <th>param_solver</th>\n",
       "      <th>param_max_iter</th>\n",
       "      <th>mean_test_recall_macro</th>\n",
       "    </tr>\n",
       "  </thead>\n",
       "  <tbody>\n",
       "    <tr>\n",
       "      <th>6</th>\n",
       "      <td>lbfgs</td>\n",
       "      <td>1000</td>\n",
       "      <td>0.781577</td>\n",
       "    </tr>\n",
       "  </tbody>\n",
       "</table>\n",
       "</div>"
      ],
      "text/plain": [
       "  param_solver param_max_iter  mean_test_recall_macro\n",
       "6        lbfgs           1000                0.781577"
      ]
     },
     "execution_count": 71,
     "metadata": {
      "tags": []
     },
     "output_type": "execute_result"
    }
   ],
   "source": [
    "row = tempDf.iloc[tempDf[['mean_test_recall_macro']].idxmax()]\n",
    "row[['param_solver','param_max_iter','mean_test_recall_macro']]"
   ]
  },
  {
   "cell_type": "markdown",
   "metadata": {
    "id": "3m8_1zI6gwMf"
   },
   "source": [
    "Best parameters in F-measure metric"
   ]
  },
  {
   "cell_type": "code",
   "execution_count": null,
   "metadata": {
    "colab": {
     "base_uri": "https://localhost:8080/",
     "height": 79
    },
    "executionInfo": {
     "elapsed": 3894578,
     "status": "ok",
     "timestamp": 1603796950628,
     "user": {
      "displayName": "Myrto Iglezou",
      "photoUrl": "https://lh3.googleusercontent.com/a-/AOh14GiGxz5i6bRZcITMuSj919yA4rcRZi2VcTgzmqCNVQ=s64",
      "userId": "01628466260297513800"
     },
     "user_tz": -120
    },
    "id": "bjXI1RnCfSiZ",
    "outputId": "556a4ea5-bbd1-4127-eab1-e9a3bd0b08f2"
   },
   "outputs": [
    {
     "data": {
      "text/html": [
       "<div>\n",
       "<style scoped>\n",
       "    .dataframe tbody tr th:only-of-type {\n",
       "        vertical-align: middle;\n",
       "    }\n",
       "\n",
       "    .dataframe tbody tr th {\n",
       "        vertical-align: top;\n",
       "    }\n",
       "\n",
       "    .dataframe thead th {\n",
       "        text-align: right;\n",
       "    }\n",
       "</style>\n",
       "<table border=\"1\" class=\"dataframe\">\n",
       "  <thead>\n",
       "    <tr style=\"text-align: right;\">\n",
       "      <th></th>\n",
       "      <th>param_solver</th>\n",
       "      <th>param_max_iter</th>\n",
       "      <th>mean_test_f1_macro</th>\n",
       "    </tr>\n",
       "  </thead>\n",
       "  <tbody>\n",
       "    <tr>\n",
       "      <th>6</th>\n",
       "      <td>lbfgs</td>\n",
       "      <td>1000</td>\n",
       "      <td>0.781443</td>\n",
       "    </tr>\n",
       "  </tbody>\n",
       "</table>\n",
       "</div>"
      ],
      "text/plain": [
       "  param_solver param_max_iter  mean_test_f1_macro\n",
       "6        lbfgs           1000            0.781443"
      ]
     },
     "execution_count": 72,
     "metadata": {
      "tags": []
     },
     "output_type": "execute_result"
    }
   ],
   "source": [
    "row = tempDf.iloc[tempDf[['mean_test_f1_macro']].idxmax()]\n",
    "row[['param_solver','param_max_iter','mean_test_f1_macro']]"
   ]
  }
 ],
 "metadata": {
  "colab": {
   "name": "question3.ipynb",
   "provenance": []
  },
  "kernelspec": {
   "display_name": "Python 3.6.8 64-bit ('opencv-env': conda)",
   "language": "python",
   "name": "python36864bitopencvenvcondad263f100daf4493e8e73d9bd1ee965a1"
  },
  "language_info": {
   "codemirror_mode": {
    "name": "ipython",
    "version": 3
   },
   "file_extension": ".py",
   "mimetype": "text/x-python",
   "name": "python",
   "nbconvert_exporter": "python",
   "pygments_lexer": "ipython3",
   "version": "3.6.8"
  }
 },
 "nbformat": 4,
 "nbformat_minor": 1
}
